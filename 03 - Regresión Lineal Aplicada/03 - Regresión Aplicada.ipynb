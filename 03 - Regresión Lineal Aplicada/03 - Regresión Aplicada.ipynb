{
 "cells": [
  {
   "cell_type": "markdown",
   "metadata": {
    "ExecuteTime": {
     "end_time": "2020-03-04T01:21:08.810200Z",
     "start_time": "2020-03-04T01:21:08.804251Z"
    }
   },
   "source": [
    "<font color = 'brown'  size = 3>\n",
    "    \n",
    "# 03 - Regresión Aplicada.\n",
    "#      Mortalidad por Diabetes"
   ]
  },
  {
   "cell_type": "markdown",
   "metadata": {},
   "source": [
    "<font color = 'purple'>\n",
    "    \n",
    "## 01 - Información sobre la mortalidad por diabetes."
   ]
  },
  {
   "cell_type": "markdown",
   "metadata": {},
   "source": [
    "Se hará un análisis sobre la evolución de la diabetes en una persona durante un año. Se hará una caracterización de la diabates a través de diez rasgos de la persona y con ello se determinará si la persona padece o no la enfermedad. \n",
    "\n",
    "Los rasgos de caracterización serán: edad, sexo, índice de masa corporal, presión arterial promedio y seis mediciones de suero sanguíneo (S1, S2, S3, S4, S5, S6).\n",
    "\n",
    "Se utilizará un 'dataset' que contiene información de 442 pacientes (los rasgos mencionados anteriormente) así como la respuesta de interés y una medida cuantitativa de la progresión de la enfermedad un año después del inicio del estudio. Los valores de salida ($y$) varian entre 25 y 346.\n",
    "\n",
    "Fuente de la información: [Diabetes Data](https://www4.stat.ncsu.edu/~boos/var.select/diabetes.html).\n",
    "\n",
    "Comenzamos por importar las librerías de utilidad y cargar el 'dataset'."
   ]
  },
  {
   "cell_type": "code",
   "execution_count": 1,
   "metadata": {
    "ExecuteTime": {
     "end_time": "2020-10-14T00:52:07.765805Z",
     "start_time": "2020-10-14T00:52:07.357659Z"
    }
   },
   "outputs": [],
   "source": [
    "import pandas as pd\n",
    "import numpy as np\n",
    "import matplotlib.pyplot as plt"
   ]
  },
  {
   "cell_type": "code",
   "execution_count": 2,
   "metadata": {
    "ExecuteTime": {
     "end_time": "2020-10-14T00:52:07.775127Z",
     "start_time": "2020-10-14T00:52:07.767419Z"
    }
   },
   "outputs": [],
   "source": [
    "datos = pd.read_csv('diabetes.csv', sep = '\\t')   # Indicamos la separación que tienen los datos (tabulación)"
   ]
  },
  {
   "cell_type": "code",
   "execution_count": 3,
   "metadata": {
    "ExecuteTime": {
     "end_time": "2020-10-14T00:52:07.793137Z",
     "start_time": "2020-10-14T00:52:07.777609Z"
    }
   },
   "outputs": [
    {
     "data": {
      "text/html": [
       "<div>\n",
       "<style scoped>\n",
       "    .dataframe tbody tr th:only-of-type {\n",
       "        vertical-align: middle;\n",
       "    }\n",
       "\n",
       "    .dataframe tbody tr th {\n",
       "        vertical-align: top;\n",
       "    }\n",
       "\n",
       "    .dataframe thead th {\n",
       "        text-align: right;\n",
       "    }\n",
       "</style>\n",
       "<table border=\"1\" class=\"dataframe\">\n",
       "  <thead>\n",
       "    <tr style=\"text-align: right;\">\n",
       "      <th></th>\n",
       "      <th>AGE</th>\n",
       "      <th>SEX</th>\n",
       "      <th>BMI</th>\n",
       "      <th>BP</th>\n",
       "      <th>S1</th>\n",
       "      <th>S2</th>\n",
       "      <th>S3</th>\n",
       "      <th>S4</th>\n",
       "      <th>S5</th>\n",
       "      <th>S6</th>\n",
       "      <th>Y</th>\n",
       "    </tr>\n",
       "  </thead>\n",
       "  <tbody>\n",
       "    <tr>\n",
       "      <th>0</th>\n",
       "      <td>59</td>\n",
       "      <td>2</td>\n",
       "      <td>32.1</td>\n",
       "      <td>101.0</td>\n",
       "      <td>157</td>\n",
       "      <td>93.2</td>\n",
       "      <td>38.0</td>\n",
       "      <td>4.00</td>\n",
       "      <td>4.8598</td>\n",
       "      <td>87</td>\n",
       "      <td>151</td>\n",
       "    </tr>\n",
       "    <tr>\n",
       "      <th>1</th>\n",
       "      <td>48</td>\n",
       "      <td>1</td>\n",
       "      <td>21.6</td>\n",
       "      <td>87.0</td>\n",
       "      <td>183</td>\n",
       "      <td>103.2</td>\n",
       "      <td>70.0</td>\n",
       "      <td>3.00</td>\n",
       "      <td>3.8918</td>\n",
       "      <td>69</td>\n",
       "      <td>75</td>\n",
       "    </tr>\n",
       "    <tr>\n",
       "      <th>2</th>\n",
       "      <td>72</td>\n",
       "      <td>2</td>\n",
       "      <td>30.5</td>\n",
       "      <td>93.0</td>\n",
       "      <td>156</td>\n",
       "      <td>93.6</td>\n",
       "      <td>41.0</td>\n",
       "      <td>4.00</td>\n",
       "      <td>4.6728</td>\n",
       "      <td>85</td>\n",
       "      <td>141</td>\n",
       "    </tr>\n",
       "    <tr>\n",
       "      <th>3</th>\n",
       "      <td>24</td>\n",
       "      <td>1</td>\n",
       "      <td>25.3</td>\n",
       "      <td>84.0</td>\n",
       "      <td>198</td>\n",
       "      <td>131.4</td>\n",
       "      <td>40.0</td>\n",
       "      <td>5.00</td>\n",
       "      <td>4.8903</td>\n",
       "      <td>89</td>\n",
       "      <td>206</td>\n",
       "    </tr>\n",
       "    <tr>\n",
       "      <th>4</th>\n",
       "      <td>50</td>\n",
       "      <td>1</td>\n",
       "      <td>23.0</td>\n",
       "      <td>101.0</td>\n",
       "      <td>192</td>\n",
       "      <td>125.4</td>\n",
       "      <td>52.0</td>\n",
       "      <td>4.00</td>\n",
       "      <td>4.2905</td>\n",
       "      <td>80</td>\n",
       "      <td>135</td>\n",
       "    </tr>\n",
       "    <tr>\n",
       "      <th>5</th>\n",
       "      <td>23</td>\n",
       "      <td>1</td>\n",
       "      <td>22.6</td>\n",
       "      <td>89.0</td>\n",
       "      <td>139</td>\n",
       "      <td>64.8</td>\n",
       "      <td>61.0</td>\n",
       "      <td>2.00</td>\n",
       "      <td>4.1897</td>\n",
       "      <td>68</td>\n",
       "      <td>97</td>\n",
       "    </tr>\n",
       "    <tr>\n",
       "      <th>6</th>\n",
       "      <td>36</td>\n",
       "      <td>2</td>\n",
       "      <td>22.0</td>\n",
       "      <td>90.0</td>\n",
       "      <td>160</td>\n",
       "      <td>99.6</td>\n",
       "      <td>50.0</td>\n",
       "      <td>3.00</td>\n",
       "      <td>3.9512</td>\n",
       "      <td>82</td>\n",
       "      <td>138</td>\n",
       "    </tr>\n",
       "    <tr>\n",
       "      <th>7</th>\n",
       "      <td>66</td>\n",
       "      <td>2</td>\n",
       "      <td>26.2</td>\n",
       "      <td>114.0</td>\n",
       "      <td>255</td>\n",
       "      <td>185.0</td>\n",
       "      <td>56.0</td>\n",
       "      <td>4.55</td>\n",
       "      <td>4.2485</td>\n",
       "      <td>92</td>\n",
       "      <td>63</td>\n",
       "    </tr>\n",
       "    <tr>\n",
       "      <th>8</th>\n",
       "      <td>60</td>\n",
       "      <td>2</td>\n",
       "      <td>32.1</td>\n",
       "      <td>83.0</td>\n",
       "      <td>179</td>\n",
       "      <td>119.4</td>\n",
       "      <td>42.0</td>\n",
       "      <td>4.00</td>\n",
       "      <td>4.4773</td>\n",
       "      <td>94</td>\n",
       "      <td>110</td>\n",
       "    </tr>\n",
       "    <tr>\n",
       "      <th>9</th>\n",
       "      <td>29</td>\n",
       "      <td>1</td>\n",
       "      <td>30.0</td>\n",
       "      <td>85.0</td>\n",
       "      <td>180</td>\n",
       "      <td>93.4</td>\n",
       "      <td>43.0</td>\n",
       "      <td>4.00</td>\n",
       "      <td>5.3845</td>\n",
       "      <td>88</td>\n",
       "      <td>310</td>\n",
       "    </tr>\n",
       "  </tbody>\n",
       "</table>\n",
       "</div>"
      ],
      "text/plain": [
       "   AGE  SEX   BMI     BP   S1     S2    S3    S4      S5  S6    Y\n",
       "0   59    2  32.1  101.0  157   93.2  38.0  4.00  4.8598  87  151\n",
       "1   48    1  21.6   87.0  183  103.2  70.0  3.00  3.8918  69   75\n",
       "2   72    2  30.5   93.0  156   93.6  41.0  4.00  4.6728  85  141\n",
       "3   24    1  25.3   84.0  198  131.4  40.0  5.00  4.8903  89  206\n",
       "4   50    1  23.0  101.0  192  125.4  52.0  4.00  4.2905  80  135\n",
       "5   23    1  22.6   89.0  139   64.8  61.0  2.00  4.1897  68   97\n",
       "6   36    2  22.0   90.0  160   99.6  50.0  3.00  3.9512  82  138\n",
       "7   66    2  26.2  114.0  255  185.0  56.0  4.55  4.2485  92   63\n",
       "8   60    2  32.1   83.0  179  119.4  42.0  4.00  4.4773  94  110\n",
       "9   29    1  30.0   85.0  180   93.4  43.0  4.00  5.3845  88  310"
      ]
     },
     "execution_count": 3,
     "metadata": {},
     "output_type": "execute_result"
    }
   ],
   "source": [
    "# Se despliegan las primeras 10 muestras (rasgos, objetivo)\n",
    "datos.head(10)"
   ]
  },
  {
   "cell_type": "markdown",
   "metadata": {},
   "source": [
    "Con el método 'describe()' se puede generar datos estadísticos sobre el dataset."
   ]
  },
  {
   "cell_type": "code",
   "execution_count": 4,
   "metadata": {
    "ExecuteTime": {
     "end_time": "2020-10-14T00:52:07.837728Z",
     "start_time": "2020-10-14T00:52:07.794576Z"
    }
   },
   "outputs": [
    {
     "data": {
      "text/html": [
       "<div>\n",
       "<style scoped>\n",
       "    .dataframe tbody tr th:only-of-type {\n",
       "        vertical-align: middle;\n",
       "    }\n",
       "\n",
       "    .dataframe tbody tr th {\n",
       "        vertical-align: top;\n",
       "    }\n",
       "\n",
       "    .dataframe thead th {\n",
       "        text-align: right;\n",
       "    }\n",
       "</style>\n",
       "<table border=\"1\" class=\"dataframe\">\n",
       "  <thead>\n",
       "    <tr style=\"text-align: right;\">\n",
       "      <th></th>\n",
       "      <th>AGE</th>\n",
       "      <th>SEX</th>\n",
       "      <th>BMI</th>\n",
       "      <th>BP</th>\n",
       "      <th>S1</th>\n",
       "      <th>S2</th>\n",
       "      <th>S3</th>\n",
       "      <th>S4</th>\n",
       "      <th>S5</th>\n",
       "      <th>S6</th>\n",
       "      <th>Y</th>\n",
       "    </tr>\n",
       "  </thead>\n",
       "  <tbody>\n",
       "    <tr>\n",
       "      <th>count</th>\n",
       "      <td>442.000000</td>\n",
       "      <td>442.000000</td>\n",
       "      <td>442.000000</td>\n",
       "      <td>442.000000</td>\n",
       "      <td>442.000000</td>\n",
       "      <td>442.000000</td>\n",
       "      <td>442.000000</td>\n",
       "      <td>442.000000</td>\n",
       "      <td>442.000000</td>\n",
       "      <td>442.000000</td>\n",
       "      <td>442.000000</td>\n",
       "    </tr>\n",
       "    <tr>\n",
       "      <th>mean</th>\n",
       "      <td>48.518100</td>\n",
       "      <td>1.468326</td>\n",
       "      <td>26.375792</td>\n",
       "      <td>94.647014</td>\n",
       "      <td>189.140271</td>\n",
       "      <td>115.439140</td>\n",
       "      <td>49.788462</td>\n",
       "      <td>4.070249</td>\n",
       "      <td>4.641411</td>\n",
       "      <td>91.260181</td>\n",
       "      <td>152.133484</td>\n",
       "    </tr>\n",
       "    <tr>\n",
       "      <th>std</th>\n",
       "      <td>13.109028</td>\n",
       "      <td>0.499561</td>\n",
       "      <td>4.418122</td>\n",
       "      <td>13.831283</td>\n",
       "      <td>34.608052</td>\n",
       "      <td>30.413081</td>\n",
       "      <td>12.934202</td>\n",
       "      <td>1.290450</td>\n",
       "      <td>0.522391</td>\n",
       "      <td>11.496335</td>\n",
       "      <td>77.093005</td>\n",
       "    </tr>\n",
       "    <tr>\n",
       "      <th>min</th>\n",
       "      <td>19.000000</td>\n",
       "      <td>1.000000</td>\n",
       "      <td>18.000000</td>\n",
       "      <td>62.000000</td>\n",
       "      <td>97.000000</td>\n",
       "      <td>41.600000</td>\n",
       "      <td>22.000000</td>\n",
       "      <td>2.000000</td>\n",
       "      <td>3.258100</td>\n",
       "      <td>58.000000</td>\n",
       "      <td>25.000000</td>\n",
       "    </tr>\n",
       "    <tr>\n",
       "      <th>25%</th>\n",
       "      <td>38.250000</td>\n",
       "      <td>1.000000</td>\n",
       "      <td>23.200000</td>\n",
       "      <td>84.000000</td>\n",
       "      <td>164.250000</td>\n",
       "      <td>96.050000</td>\n",
       "      <td>40.250000</td>\n",
       "      <td>3.000000</td>\n",
       "      <td>4.276700</td>\n",
       "      <td>83.250000</td>\n",
       "      <td>87.000000</td>\n",
       "    </tr>\n",
       "    <tr>\n",
       "      <th>50%</th>\n",
       "      <td>50.000000</td>\n",
       "      <td>1.000000</td>\n",
       "      <td>25.700000</td>\n",
       "      <td>93.000000</td>\n",
       "      <td>186.000000</td>\n",
       "      <td>113.000000</td>\n",
       "      <td>48.000000</td>\n",
       "      <td>4.000000</td>\n",
       "      <td>4.620050</td>\n",
       "      <td>91.000000</td>\n",
       "      <td>140.500000</td>\n",
       "    </tr>\n",
       "    <tr>\n",
       "      <th>75%</th>\n",
       "      <td>59.000000</td>\n",
       "      <td>2.000000</td>\n",
       "      <td>29.275000</td>\n",
       "      <td>105.000000</td>\n",
       "      <td>209.750000</td>\n",
       "      <td>134.500000</td>\n",
       "      <td>57.750000</td>\n",
       "      <td>5.000000</td>\n",
       "      <td>4.997200</td>\n",
       "      <td>98.000000</td>\n",
       "      <td>211.500000</td>\n",
       "    </tr>\n",
       "    <tr>\n",
       "      <th>max</th>\n",
       "      <td>79.000000</td>\n",
       "      <td>2.000000</td>\n",
       "      <td>42.200000</td>\n",
       "      <td>133.000000</td>\n",
       "      <td>301.000000</td>\n",
       "      <td>242.400000</td>\n",
       "      <td>99.000000</td>\n",
       "      <td>9.090000</td>\n",
       "      <td>6.107000</td>\n",
       "      <td>124.000000</td>\n",
       "      <td>346.000000</td>\n",
       "    </tr>\n",
       "  </tbody>\n",
       "</table>\n",
       "</div>"
      ],
      "text/plain": [
       "              AGE         SEX         BMI          BP          S1          S2  \\\n",
       "count  442.000000  442.000000  442.000000  442.000000  442.000000  442.000000   \n",
       "mean    48.518100    1.468326   26.375792   94.647014  189.140271  115.439140   \n",
       "std     13.109028    0.499561    4.418122   13.831283   34.608052   30.413081   \n",
       "min     19.000000    1.000000   18.000000   62.000000   97.000000   41.600000   \n",
       "25%     38.250000    1.000000   23.200000   84.000000  164.250000   96.050000   \n",
       "50%     50.000000    1.000000   25.700000   93.000000  186.000000  113.000000   \n",
       "75%     59.000000    2.000000   29.275000  105.000000  209.750000  134.500000   \n",
       "max     79.000000    2.000000   42.200000  133.000000  301.000000  242.400000   \n",
       "\n",
       "               S3          S4          S5          S6           Y  \n",
       "count  442.000000  442.000000  442.000000  442.000000  442.000000  \n",
       "mean    49.788462    4.070249    4.641411   91.260181  152.133484  \n",
       "std     12.934202    1.290450    0.522391   11.496335   77.093005  \n",
       "min     22.000000    2.000000    3.258100   58.000000   25.000000  \n",
       "25%     40.250000    3.000000    4.276700   83.250000   87.000000  \n",
       "50%     48.000000    4.000000    4.620050   91.000000  140.500000  \n",
       "75%     57.750000    5.000000    4.997200   98.000000  211.500000  \n",
       "max     99.000000    9.090000    6.107000  124.000000  346.000000  "
      ]
     },
     "execution_count": 4,
     "metadata": {},
     "output_type": "execute_result"
    }
   ],
   "source": [
    "datos.describe()"
   ]
  },
  {
   "cell_type": "markdown",
   "metadata": {
    "ExecuteTime": {
     "end_time": "2020-10-13T19:15:39.725146Z",
     "start_time": "2020-10-13T19:15:39.717561Z"
    }
   },
   "source": [
    "<font size=5 color='blue'>\n",
    "\n",
    "Regression analysis"
   ]
  },
  {
   "cell_type": "markdown",
   "metadata": {},
   "source": [
    "<font size=4 color='black'>\n",
    "    \n",
    "In statistical modeling, $\\textbf {regression analysis}$ is a set of statistical processes for estimating the relationships between a dependent variable (often called the 'outcome variable') and one or more independent variables (often called 'predictors', 'covariates', or 'features').\n",
    "    \n",
    "More: [Regression analysis](https://en.wikipedia.org/wiki/Regression_analysis)"
   ]
  },
  {
   "cell_type": "markdown",
   "metadata": {
    "ExecuteTime": {
     "end_time": "2020-10-13T20:21:23.071130Z",
     "start_time": "2020-10-13T20:21:23.062454Z"
    }
   },
   "source": [
    "<font size=4>\n",
    "\n",
    "Se reordenan la muestras (los renglones del DataFrame) al azar."
   ]
  },
  {
   "cell_type": "code",
   "execution_count": 5,
   "metadata": {
    "ExecuteTime": {
     "end_time": "2020-10-14T00:52:10.636550Z",
     "start_time": "2020-10-14T00:52:10.633218Z"
    }
   },
   "outputs": [
    {
     "data": {
      "text/html": [
       "<div>\n",
       "<style scoped>\n",
       "    .dataframe tbody tr th:only-of-type {\n",
       "        vertical-align: middle;\n",
       "    }\n",
       "\n",
       "    .dataframe tbody tr th {\n",
       "        vertical-align: top;\n",
       "    }\n",
       "\n",
       "    .dataframe thead th {\n",
       "        text-align: right;\n",
       "    }\n",
       "</style>\n",
       "<table border=\"1\" class=\"dataframe\">\n",
       "  <thead>\n",
       "    <tr style=\"text-align: right;\">\n",
       "      <th></th>\n",
       "      <th>AGE</th>\n",
       "      <th>SEX</th>\n",
       "      <th>BMI</th>\n",
       "      <th>BP</th>\n",
       "      <th>S1</th>\n",
       "      <th>S2</th>\n",
       "      <th>S3</th>\n",
       "      <th>S4</th>\n",
       "      <th>S5</th>\n",
       "      <th>S6</th>\n",
       "      <th>Y</th>\n",
       "    </tr>\n",
       "  </thead>\n",
       "  <tbody>\n",
       "    <tr>\n",
       "      <th>439</th>\n",
       "      <td>60</td>\n",
       "      <td>2</td>\n",
       "      <td>24.9</td>\n",
       "      <td>99.67</td>\n",
       "      <td>162</td>\n",
       "      <td>106.6</td>\n",
       "      <td>43.0</td>\n",
       "      <td>3.77</td>\n",
       "      <td>4.1271</td>\n",
       "      <td>95</td>\n",
       "      <td>132</td>\n",
       "    </tr>\n",
       "    <tr>\n",
       "      <th>375</th>\n",
       "      <td>61</td>\n",
       "      <td>2</td>\n",
       "      <td>26.1</td>\n",
       "      <td>126.00</td>\n",
       "      <td>215</td>\n",
       "      <td>129.8</td>\n",
       "      <td>57.0</td>\n",
       "      <td>4.00</td>\n",
       "      <td>4.9488</td>\n",
       "      <td>96</td>\n",
       "      <td>217</td>\n",
       "    </tr>\n",
       "    <tr>\n",
       "      <th>180</th>\n",
       "      <td>38</td>\n",
       "      <td>2</td>\n",
       "      <td>26.8</td>\n",
       "      <td>105.00</td>\n",
       "      <td>181</td>\n",
       "      <td>119.2</td>\n",
       "      <td>37.0</td>\n",
       "      <td>5.00</td>\n",
       "      <td>4.8203</td>\n",
       "      <td>91</td>\n",
       "      <td>107</td>\n",
       "    </tr>\n",
       "    <tr>\n",
       "      <th>321</th>\n",
       "      <td>75</td>\n",
       "      <td>1</td>\n",
       "      <td>31.2</td>\n",
       "      <td>117.67</td>\n",
       "      <td>229</td>\n",
       "      <td>138.8</td>\n",
       "      <td>29.0</td>\n",
       "      <td>7.90</td>\n",
       "      <td>5.7236</td>\n",
       "      <td>106</td>\n",
       "      <td>230</td>\n",
       "    </tr>\n",
       "    <tr>\n",
       "      <th>12</th>\n",
       "      <td>53</td>\n",
       "      <td>1</td>\n",
       "      <td>23.7</td>\n",
       "      <td>92.00</td>\n",
       "      <td>186</td>\n",
       "      <td>109.2</td>\n",
       "      <td>62.0</td>\n",
       "      <td>3.00</td>\n",
       "      <td>4.3041</td>\n",
       "      <td>81</td>\n",
       "      <td>179</td>\n",
       "    </tr>\n",
       "    <tr>\n",
       "      <th>90</th>\n",
       "      <td>52</td>\n",
       "      <td>1</td>\n",
       "      <td>24.0</td>\n",
       "      <td>83.00</td>\n",
       "      <td>167</td>\n",
       "      <td>86.6</td>\n",
       "      <td>71.0</td>\n",
       "      <td>2.00</td>\n",
       "      <td>3.8501</td>\n",
       "      <td>94</td>\n",
       "      <td>98</td>\n",
       "    </tr>\n",
       "    <tr>\n",
       "      <th>5</th>\n",
       "      <td>23</td>\n",
       "      <td>1</td>\n",
       "      <td>22.6</td>\n",
       "      <td>89.00</td>\n",
       "      <td>139</td>\n",
       "      <td>64.8</td>\n",
       "      <td>61.0</td>\n",
       "      <td>2.00</td>\n",
       "      <td>4.1897</td>\n",
       "      <td>68</td>\n",
       "      <td>97</td>\n",
       "    </tr>\n",
       "    <tr>\n",
       "      <th>404</th>\n",
       "      <td>44</td>\n",
       "      <td>1</td>\n",
       "      <td>31.4</td>\n",
       "      <td>115.00</td>\n",
       "      <td>165</td>\n",
       "      <td>97.6</td>\n",
       "      <td>52.0</td>\n",
       "      <td>3.00</td>\n",
       "      <td>4.3438</td>\n",
       "      <td>89</td>\n",
       "      <td>293</td>\n",
       "    </tr>\n",
       "    <tr>\n",
       "      <th>352</th>\n",
       "      <td>52</td>\n",
       "      <td>2</td>\n",
       "      <td>19.7</td>\n",
       "      <td>81.00</td>\n",
       "      <td>152</td>\n",
       "      <td>53.4</td>\n",
       "      <td>82.0</td>\n",
       "      <td>2.00</td>\n",
       "      <td>4.4188</td>\n",
       "      <td>82</td>\n",
       "      <td>77</td>\n",
       "    </tr>\n",
       "    <tr>\n",
       "      <th>125</th>\n",
       "      <td>47</td>\n",
       "      <td>2</td>\n",
       "      <td>25.6</td>\n",
       "      <td>94.00</td>\n",
       "      <td>165</td>\n",
       "      <td>74.8</td>\n",
       "      <td>40.0</td>\n",
       "      <td>4.00</td>\n",
       "      <td>5.5255</td>\n",
       "      <td>93</td>\n",
       "      <td>161</td>\n",
       "    </tr>\n",
       "  </tbody>\n",
       "</table>\n",
       "</div>"
      ],
      "text/plain": [
       "     AGE  SEX   BMI      BP   S1     S2    S3    S4      S5   S6    Y\n",
       "439   60    2  24.9   99.67  162  106.6  43.0  3.77  4.1271   95  132\n",
       "375   61    2  26.1  126.00  215  129.8  57.0  4.00  4.9488   96  217\n",
       "180   38    2  26.8  105.00  181  119.2  37.0  5.00  4.8203   91  107\n",
       "321   75    1  31.2  117.67  229  138.8  29.0  7.90  5.7236  106  230\n",
       "12    53    1  23.7   92.00  186  109.2  62.0  3.00  4.3041   81  179\n",
       "90    52    1  24.0   83.00  167   86.6  71.0  2.00  3.8501   94   98\n",
       "5     23    1  22.6   89.00  139   64.8  61.0  2.00  4.1897   68   97\n",
       "404   44    1  31.4  115.00  165   97.6  52.0  3.00  4.3438   89  293\n",
       "352   52    2  19.7   81.00  152   53.4  82.0  2.00  4.4188   82   77\n",
       "125   47    2  25.6   94.00  165   74.8  40.0  4.00  5.5255   93  161"
      ]
     },
     "execution_count": 5,
     "metadata": {},
     "output_type": "execute_result"
    }
   ],
   "source": [
    "datos = datos.sample(frac = 1)\n",
    "datos.head(10)"
   ]
  },
  {
   "cell_type": "markdown",
   "metadata": {},
   "source": [
    "<font size=4>\n",
    "    \n",
    "Se dividen la muestras en 2 conjuntos: 90 % para el entrenamiento y 10 % para evaluar el desarrollo. "
   ]
  },
  {
   "cell_type": "code",
   "execution_count": 6,
   "metadata": {},
   "outputs": [],
   "source": [
    "validacion = 0.1\n",
    "entrenamiento = int((1.0 - validacion) * len(datos))\n",
    "\n",
    "datos_entrenamiento = datos[0:entrenamiento]\n",
    "datos_validacion= datos[entrenamiento:]"
   ]
  },
  {
   "cell_type": "markdown",
   "metadata": {},
   "source": [
    "## Se crean los histogramas para cada uno de los rasgos que caracteriza a los pacientes con diabetes:"
   ]
  },
  {
   "cell_type": "code",
   "execution_count": 7,
   "metadata": {
    "ExecuteTime": {
     "end_time": "2020-10-14T00:52:08.357658Z",
     "start_time": "2020-10-14T00:52:07.839389Z"
    }
   },
   "outputs": [
    {
     "data": {
      "text/plain": [
       "Text(0, 0.5, 'Frequency')"
      ]
     },
     "execution_count": 7,
     "metadata": {},
     "output_type": "execute_result"
    },
    {
     "data": {
      "image/png": "[encoded data removed]",
      "text/plain": [
       "<Figure size 1440x1080 with 11 Axes>"
      ]
     },
     "metadata": {
      "needs_background": "light"
     },
     "output_type": "display_data"
    }
   ],
   "source": [
    "plt.figure(figsize = (20,15)) \n",
    "\n",
    "ax1 = plt.subplot(3, 4, 1)\n",
    "ax2 = plt.subplot(3, 4, 2)\n",
    "ax3 = plt.subplot(3, 4, 3)\n",
    "ax4 = plt.subplot(3, 4, 4)\n",
    "ax5 = plt.subplot(3, 4, 5)\n",
    "ax6 = plt.subplot(3, 4, 6)\n",
    "ax7 = plt.subplot(3, 4, 7)\n",
    "ax8 = plt.subplot(3, 4, 8)\n",
    "ax9 = plt.subplot(3, 4, 9)\n",
    "ax10 = plt.subplot(3, 4, 10)\n",
    "ax11 = plt.subplot(3, 4, 11)\n",
    "\n",
    "ax1.hist(datos_entrenamiento.AGE, bins = 25, color = 'green', edgecolor = 'black', alpha = 0.8)\n",
    "ax1.set_xlabel('Age (years)', size = 15)\n",
    "ax1.set_ylabel('Frequency', size = 15)\n",
    "\n",
    "ax2.hist(datos_entrenamiento.SEX, bins = 25, color = 'orange', edgecolor = 'black', alpha = 0.8)\n",
    "ax2.set_xlabel('Sex', size = 15)\n",
    "ax2.set_ylabel('Frequency', size = 15)\n",
    "\n",
    "ax3.hist(datos_entrenamiento.BMI, bins = 25, color = 'cyan', edgecolor = 'black', alpha = 0.8)\n",
    "ax3.set_xlabel('Body_mass_index', size = 15)\n",
    "ax3.set_ylabel('Frequency', size = 15)\n",
    "\n",
    "ax4.hist(datos_entrenamiento.BP, bins = 25, color = 'blue', edgecolor = 'black', alpha = 0.8)\n",
    "ax4.set_xlabel('Average_blood_pressure', size = 15);\n",
    "ax4.set_ylabel('Frequency', size = 15)\n",
    "\n",
    "ax5.hist(datos_entrenamiento.S1, bins = 25, color = 'saddlebrown', edgecolor = 'black', alpha = 0.8)\n",
    "ax5.set_xlabel('S1', size=15)\n",
    "ax5.set_ylabel('Frequency', size=15)\n",
    "\n",
    "ax6.hist(datos_entrenamiento.S2, bins = 25, color = 'yellow', edgecolor = 'black', alpha = 0.8)\n",
    "ax6.set_xlabel('S2', size = 15)\n",
    "ax9.set_ylabel('Frequency', size = 15)\n",
    "\n",
    "ax7.hist(datos_entrenamiento.S3, bins = 25, color = 'chartreuse', edgecolor = 'black', alpha = 0.8)\n",
    "ax7.set_xlabel('S3', size = 15)\n",
    "ax9.set_ylabel('Frequency', size = 15)\n",
    "\n",
    "ax8.hist(datos_entrenamiento.S4, bins = 25, color = 'pink',edgecolor='purple', alpha = 0.8)\n",
    "ax8.set_xlabel('S4', size = 15);\n",
    "ax9.set_ylabel('Frequency', size = 15)\n",
    "\n",
    "ax9.hist(datos_entrenamiento.S5, bins = 25, color = 'red', edgecolor = 'black', alpha = 0.8)\n",
    "ax9.set_xlabel('S5', size = 15)\n",
    "ax9.set_ylabel('Frequency', size = 15)\n",
    "\n",
    "ax10.hist(datos_entrenamiento.S6, bins = 25, color = 'teal', edgecolor = 'black', alpha = 0.8)\n",
    "ax10.set_xlabel('S6', size = 15)\n",
    "ax9.set_ylabel('Frequency', size = 15)\n",
    "\n",
    "ax11.hist(datos_entrenamiento.Y, bins = 25, color = 'darkviolet', edgecolor = 'black', alpha = 0.8)\n",
    "ax11.set_xlabel('Y', size = 15)\n",
    "ax9.set_ylabel('Frequency', size = 15)"
   ]
  },
  {
   "cell_type": "markdown",
   "metadata": {},
   "source": [
    "<font size=4>\n",
    "\n",
    "Para trabajar con los modelos se requiere que todas las variables tengan el mismo orden de magnitud. Por ello estas se normalizan, tanto los rasgos (X) y las objetivo o referencia (Y):\n",
    "\n",
    "$$x_{norm} = \\dfrac{x-\\bar{x}}{\\sigma}$$"
   ]
  },
  {
   "cell_type": "code",
   "execution_count": 8,
   "metadata": {
    "ExecuteTime": {
     "end_time": "2020-10-14T00:52:09.267175Z",
     "start_time": "2020-10-14T00:52:09.247586Z"
    }
   },
   "outputs": [],
   "source": [
    "promedio_entrenamiento = datos_entrenamiento.mean()\n",
    "desviacion_entrenamiento = datos_entrenamiento.std()\n",
    "\n",
    "datos_normalizados_entrenamiento = (datos_entrenamiento - promedio_entrenamiento) / desviacion_entrenamiento\n",
    "datos_normalizados_validacion = (datos_validacion - promedio_entrenamiento) / desviacion_entrenamiento"
   ]
  },
  {
   "cell_type": "markdown",
   "metadata": {},
   "source": [
    "[Normalization](https://jamesmccaffrey.wordpress.com/2019/01/04/how-to-normalize-training-and-test-data-for-machine-learning/)"
   ]
  },
  {
   "cell_type": "markdown",
   "metadata": {},
   "source": [
    "<font size=4>\n",
    "    \n",
    "Histogramas de las variables normalizados:"
   ]
  },
  {
   "cell_type": "code",
   "execution_count": 9,
   "metadata": {
    "ExecuteTime": {
     "end_time": "2020-10-14T00:52:09.741455Z",
     "start_time": "2020-10-14T00:52:09.269824Z"
    }
   },
   "outputs": [
    {
     "data": {
      "text/plain": [
       "Text(0, 0.5, 'Frequency')"
      ]
     },
     "execution_count": 9,
     "metadata": {},
     "output_type": "execute_result"
    },
    {
     "data": {
      "image/png": "[encoded data removed]",
      "text/plain": [
       "<Figure size 1440x1080 with 11 Axes>"
      ]
     },
     "metadata": {
      "needs_background": "light"
     },
     "output_type": "display_data"
    }
   ],
   "source": [
    "plt.figure(figsize = (20,15)) \n",
    "\n",
    "ax1 = plt.subplot(3, 4, 1)\n",
    "ax2 = plt.subplot(3, 4, 2)\n",
    "ax3 = plt.subplot(3, 4, 3)\n",
    "ax4 = plt.subplot(3, 4, 4)\n",
    "ax5 = plt.subplot(3, 4, 5)\n",
    "ax6 = plt.subplot(3, 4, 6)\n",
    "ax7 = plt.subplot(3, 4, 7)\n",
    "ax8 = plt.subplot(3, 4, 8)\n",
    "ax9 = plt.subplot(3, 4, 9)\n",
    "ax10 = plt.subplot(3, 4, 10)\n",
    "ax11 = plt.subplot(3, 4, 11)\n",
    "\n",
    "ax1.hist(datos_normalizados_entrenamiento.AGE, bins = 25, color = 'green', edgecolor = 'black', alpha = 0.8)\n",
    "ax1.set_xlabel('Age (years)', size = 15)\n",
    "ax1.set_ylabel('Frequency', size = 15)\n",
    "\n",
    "ax2.hist(datos_normalizados_entrenamiento.SEX, bins = 25, color = 'orange', edgecolor = 'black', alpha = 0.8)\n",
    "ax2.set_xlabel('Sex', size = 15)\n",
    "ax2.set_ylabel('Frequency', size = 15)\n",
    "\n",
    "ax3.hist(datos_normalizados_entrenamiento.BMI, bins = 25, color = 'cyan', edgecolor = 'black', alpha = 0.8)\n",
    "ax3.set_xlabel('Body_mass_index', size = 15)\n",
    "ax3.set_ylabel('Frequency', size = 15)\n",
    "\n",
    "ax4.hist(datos_normalizados_entrenamiento.BP, bins = 25, color = 'blue', edgecolor = 'black', alpha = 0.8)\n",
    "ax4.set_xlabel('Average_blood_pressure', size = 15);\n",
    "ax4.set_ylabel('Frequency', size = 15)\n",
    "\n",
    "ax5.hist(datos_normalizados_entrenamiento.S1, bins = 25, color = 'saddlebrown', edgecolor = 'black', alpha = 0.8)\n",
    "ax5.set_xlabel('S1', size=15)\n",
    "ax5.set_ylabel('Frequency', size=15)\n",
    "\n",
    "ax6.hist(datos_normalizados_entrenamiento.S2, bins = 25, color = 'yellow', edgecolor = 'black', alpha = 0.8)\n",
    "ax6.set_xlabel('S2', size = 15)\n",
    "ax9.set_ylabel('Frequency', size = 15)\n",
    "\n",
    "ax7.hist(datos_normalizados_entrenamiento.S3, bins = 25, color = 'chartreuse', edgecolor = 'black', alpha = 0.8)\n",
    "ax7.set_xlabel('S3', size = 15)\n",
    "ax9.set_ylabel('Frequency', size = 15)\n",
    "\n",
    "ax8.hist(datos_normalizados_entrenamiento.S4, bins = 25, color = 'pink',edgecolor='purple', alpha = 0.8)\n",
    "ax8.set_xlabel('S4', size = 15);\n",
    "ax9.set_ylabel('Frequency', size = 15)\n",
    "\n",
    "ax9.hist(datos_normalizados_entrenamiento.S5, bins = 25, color = 'red', edgecolor = 'black', alpha = 0.8)\n",
    "ax9.set_xlabel('S5', size = 15)\n",
    "ax9.set_ylabel('Frequency', size = 15)\n",
    "\n",
    "ax10.hist(datos_normalizados_entrenamiento.S6, bins = 25, color = 'teal', edgecolor = 'black', alpha = 0.8)\n",
    "ax10.set_xlabel('S6', size = 15)\n",
    "ax9.set_ylabel('Frequency', size = 15)\n",
    "\n",
    "ax11.hist(datos_normalizados_entrenamiento.Y, bins = 25, color = 'darkviolet', edgecolor = 'black', alpha = 0.8)\n",
    "ax11.set_xlabel('Y', size = 15)\n",
    "ax9.set_ylabel('Frequency', size = 15)"
   ]
  },
  {
   "cell_type": "markdown",
   "metadata": {},
   "source": [
    "Los valores de las variables $X$ e $Y$ se extraen de las columnas del dataframe. \n",
    "\n",
    "Construyamos los datos de entrada y de salida para el entrenamiento y la validación."
   ]
  },
  {
   "cell_type": "code",
   "execution_count": 10,
   "metadata": {
    "ExecuteTime": {
     "end_time": "2020-10-14T00:52:10.648993Z",
     "start_time": "2020-10-14T00:52:10.637983Z"
    }
   },
   "outputs": [
    {
     "name": "stdout",
     "output_type": "stream",
     "text": [
      "Dimensiones de los datos de entrada para el entrenamiento:  (397, 10)\n",
      "Dimensiones de los datos de salida para el entrenamiento:   (397, 1)\n",
      "Dimensiones de los datos de entrada para la validación:     (45, 10)\n",
      "Dimensiones de los datos de salida para la validación:      (45, 1)\n",
      "Transpuesto de los datos de entrada para el entrenamiento:  (10, 397)\n",
      "Transpuesto de los datos de entrada para la validación:     (10, 45)\n"
     ]
    }
   ],
   "source": [
    "# Datos de entrada para el entrenamiento:\n",
    "entrenamiento_x = datos_normalizados_entrenamiento.values[:,:-1]\n",
    "print('Dimensiones de los datos de entrada para el entrenamiento: ', entrenamiento_x.shape)\n",
    "\n",
    "# Datos de salida para el entrenamiento:\n",
    "entrenamiento_y = datos_normalizados_entrenamiento.values[:,-1:]\n",
    "print('Dimensiones de los datos de salida para el entrenamiento:  ', entrenamiento_y.shape)\n",
    "\n",
    "# Datos de entrada para la validación:\n",
    "validacion_x = datos_normalizados_validacion.values[:,:-1]\n",
    "print('Dimensiones de los datos de entrada para la validación:    ', validacion_x.shape)\n",
    "\n",
    "# Datos de salida para la validación:\n",
    "validacion_y = datos_normalizados_validacion.values[:,-1:]\n",
    "print('Dimensiones de los datos de salida para la validación:     ', validacion_y.shape)\n",
    "\n",
    "# Transposición de los datos:\n",
    "entrenamiento_transpuesto_x = entrenamiento_x.T\n",
    "validacion_transpuesto_x =  validacion_x.T\n",
    "print('Transpuesto de los datos de entrada para el entrenamiento: ', entrenamiento_transpuesto_x.shape)\n",
    "print('Transpuesto de los datos de entrada para la validación:    ', validacion_transpuesto_x.shape)"
   ]
  },
  {
   "cell_type": "markdown",
   "metadata": {
    "ExecuteTime": {
     "end_time": "2020-10-13T21:40:41.245228Z",
     "start_time": "2020-10-13T21:40:41.238690Z"
    }
   },
   "source": [
    "<font size=5 color='blue'>\n",
    "\n",
    "# <center> Linear Regression Analysis </center>"
   ]
  },
  {
   "cell_type": "markdown",
   "metadata": {},
   "source": [
    "<font size=5 color='blue'>\n",
    "    \n",
    "Implementacion de un sistema de aprendizaje, empleando un análisis de regresion lineal"
   ]
  },
  {
   "cell_type": "markdown",
   "metadata": {},
   "source": [
    "<font size=4 >\n",
    "Los pasos principales para construir el sistema son:\n",
    "\n",
    "1. Definir un modelo proponiendo un algoritmo que relacione las variables X y Y.\n",
    "2. Inicializar las variables asociadas al modelo, $w, b$ (pesos y biases).\n",
    "3. Realizar lo siguiente en cada época:\n",
    "     - Calcular el costo ($J$).\n",
    "     - Calcular el gradiente del costo respecto a las variables asociadas al modelo.\n",
    "     - Actualizar los pesos y los biases empleando el algoritmo propuesto para optimización. Por ejemplo, gradiente descendente "
   ]
  },
  {
   "cell_type": "markdown",
   "metadata": {
    "ExecuteTime": {
     "end_time": "2020-10-13T20:46:28.106905Z",
     "start_time": "2020-10-13T20:46:28.101767Z"
    }
   },
   "source": [
    "<font size=5 color='blue'>\n",
    "Algoritmo que relaciona las variables X y Y"
   ]
  },
  {
   "cell_type": "markdown",
   "metadata": {},
   "source": [
    "<font size=4 >\n",
    "    \n",
    "Se tienen $m$ muestras.\n",
    "    \n",
    "Para una muestra $x^{(i)}$:\n",
    "\n",
    "$$z^{(i)} = w^T x^{(i)} + b \\tag{1}$$\n",
    "\n",
    "$z^{(i)}$ es la combinacion lineal entre los pesos $(w)$ y la muestra $x^{(i)}$ + el bias $b$. Posteriormente esta suma es transformada (activada) con una función, para generar le valor de salida $a^{(i)}$. En el presente caso, la función es la identidad (*identity*), porque realizaremos una regresión lineal.\n",
    "\n",
    "$$f(z^{(i)}) = a^{(i)} = identity(z^{(i)}\\tag{2})$$ \n",
    "\n",
    "La función de perdida (*loss*), también llamada costo *cost*, $J$, es el promedio, sobre todas las muestras, de la diferencia al cuadrado entre el valor medido ($y^{(i)}$) y el valor que predice la función de activación ($f(x^{(i)})$).  \n",
    "\n",
    "$$ J = \\frac{1}{m} \\sum_{i=1}^m (y^{(i)} -f(x^{(i)}))^2\\tag{3}$$\n",
    "\n",
    "\n"
   ]
  },
  {
   "cell_type": "markdown",
   "metadata": {},
   "source": [
    "    \n",
    "## 1. Se inicializan las variables del algoritmo que define la relación entre X y Y. "
   ]
  },
  {
   "cell_type": "markdown",
   "metadata": {},
   "source": [
    "<font size=4>\n",
    "Debido a que las variables X y Y fueron normalizadas a distribuciones con un deviación estándard de 1, las variables $w$ se inicializan con valores pequeños, mientras que los biases se inicializan a cero."
   ]
  },
  {
   "cell_type": "code",
   "execution_count": 11,
   "metadata": {
    "ExecuteTime": {
     "end_time": "2020-10-14T00:52:10.719479Z",
     "start_time": "2020-10-14T00:52:10.709714Z"
    }
   },
   "outputs": [],
   "source": [
    "def initialize_params(dim):\n",
    "    \"\"\"\n",
    "    This function creates a vector of zeros of shape (dim, 1) for w and initializes b to 0.\n",
    "    \n",
    "    Argument:\n",
    "    dim -- size of the w vector we want (or number of parameters in this case)\n",
    "    \n",
    "    Returns:\n",
    "    w -- initialized vector of shape (dim, 1)\n",
    "    b -- initialized scalar (corresponds to the bias)\n",
    "    \"\"\"\n",
    "    \n",
    "    w = np.reshape(np.random.uniform(-0.1, 0.1, dim), (dim, 1))\n",
    "    b = 0\n",
    "\n",
    "    assert(w.shape == (dim, 1))\n",
    "    assert(isinstance(b, float) or isinstance(b, int))\n",
    "    \n",
    "    return w, b"
   ]
  },
  {
   "cell_type": "code",
   "execution_count": 12,
   "metadata": {
    "ExecuteTime": {
     "end_time": "2020-10-14T00:52:10.732402Z",
     "start_time": "2020-10-14T00:52:10.720884Z"
    }
   },
   "outputs": [
    {
     "ename": "NameError",
     "evalue": "name 'train_x' is not defined",
     "output_type": "error",
     "traceback": [
      "\u001b[1;31m---------------------------------------------------------------------------\u001b[0m",
      "\u001b[1;31mNameError\u001b[0m                                 Traceback (most recent call last)",
      "\u001b[1;32m<ipython-input-12-43f77de9a256>\u001b[0m in \u001b[0;36m<module>\u001b[1;34m\u001b[0m\n\u001b[0;32m      1\u001b[0m \u001b[1;31m#Testing the function initialize_params (dim)\u001b[0m\u001b[1;33m\u001b[0m\u001b[1;33m\u001b[0m\u001b[1;33m\u001b[0m\u001b[0m\n\u001b[0;32m      2\u001b[0m \u001b[1;33m\u001b[0m\u001b[0m\n\u001b[1;32m----> 3\u001b[1;33m \u001b[0mdim\u001b[0m \u001b[1;33m=\u001b[0m \u001b[0mtrain_x\u001b[0m\u001b[1;33m.\u001b[0m\u001b[0mshape\u001b[0m\u001b[1;33m[\u001b[0m\u001b[1;36m0\u001b[0m\u001b[1;33m]\u001b[0m\u001b[1;33m\u001b[0m\u001b[1;33m\u001b[0m\u001b[0m\n\u001b[0m\u001b[0;32m      4\u001b[0m \u001b[0mw\u001b[0m\u001b[1;33m,\u001b[0m \u001b[0mb\u001b[0m \u001b[1;33m=\u001b[0m \u001b[0minitialize_params\u001b[0m\u001b[1;33m(\u001b[0m\u001b[0mdim\u001b[0m\u001b[1;33m)\u001b[0m\u001b[1;33m\u001b[0m\u001b[1;33m\u001b[0m\u001b[0m\n\u001b[0;32m      5\u001b[0m \u001b[0mprint\u001b[0m \u001b[1;33m(\u001b[0m\u001b[1;34m\"w = \"\u001b[0m \u001b[1;33m+\u001b[0m \u001b[0mstr\u001b[0m\u001b[1;33m(\u001b[0m\u001b[0mw\u001b[0m\u001b[1;33m)\u001b[0m\u001b[1;33m)\u001b[0m\u001b[1;33m\u001b[0m\u001b[1;33m\u001b[0m\u001b[0m\n",
      "\u001b[1;31mNameError\u001b[0m: name 'train_x' is not defined"
     ]
    }
   ],
   "source": [
    "#Testing the function initialize_params (dim)\n",
    "\n",
    "dim = train_x.shape[0]\n",
    "w, b = initialize_params(dim)\n",
    "print (\"w = \" + str(w))\n",
    "print (\"b = \" + str(b))"
   ]
  },
  {
   "cell_type": "markdown",
   "metadata": {},
   "source": [
    "   \n",
    "## 2. Calculo de la función de costo y sus derivadas parciales"
   ]
  },
  {
   "cell_type": "markdown",
   "metadata": {},
   "source": [
    "<font size=4>\n",
    "Una vez inicializados los pesos y los biases, se calcula la función de costo, y también sus derivadas parciales respecto a cada uno de los pesos y los biases, las cuales serán empleadas para proponer nuevos valores tanto para los pesos como para los biases. \n",
    "\n",
    "La función *propagate( )* calcula la función de costo y su gradiente:\n",
    "\n",
    "- Se tiene a X\n",
    "\n",
    "\n",
    "- Se calcula $A = (W^T X + b) = (a^{(1)}, a^{(2)}, ..., a^{(m-1)}, a^{(m)})$\n",
    "\n",
    "\n",
    "- Se calcula la función de costo: $J = \\frac{1}{m}\\sum_{i=1}^{m}(y^{(i)} -f(z^{(i)}))^2$\n",
    "\n",
    "\n",
    "Las derivadas de la función de costo respecto a los pesos $ w$ y el bias $ b$ son:\n",
    "\n",
    "\n",
    "$$ \\frac{\\partial J}{\\partial w} = \\frac{1}{m}X(A-Y)^T\\tag{7}$$\n",
    "$$ \\frac{\\partial J}{\\partial b} = \\frac{1}{m} \\sum_{i=1}^m (f(z^{(i)})-y^{(i)}))\\tag{8}$$"
   ]
  },
  {
   "cell_type": "code",
   "execution_count": null,
   "metadata": {
    "ExecuteTime": {
     "end_time": "2020-10-14T00:52:10.748189Z",
     "start_time": "2020-10-14T00:52:10.733671Z"
    }
   },
   "outputs": [],
   "source": [
    "#Función para transformar los efectos no lineales. En el presente caso se considera un modelo completamente\n",
    "#lineal. Por ello la función es la identidad.\n",
    "\n",
    "def identity(z):\n",
    "    \"\"\"\n",
    "    Arguments:\n",
    "    z -- A scalar or numpy array of any size.\n",
    "\n",
    "    Return:\n",
    "    s -- z\n",
    "    \"\"\"\n",
    "    s = 1.0 * z\n",
    "    \n",
    "    return s"
   ]
  },
  {
   "cell_type": "code",
   "execution_count": null,
   "metadata": {
    "ExecuteTime": {
     "end_time": "2020-10-14T00:52:10.760955Z",
     "start_time": "2020-10-14T00:52:10.749651Z"
    }
   },
   "outputs": [],
   "source": [
    "def propagate(w, b, X, Y,X_val,Y_val):\n",
    "    \n",
    "    m = X.shape[1]\n",
    "    m_val = X_val.shape[1]\n",
    "    \n",
    "    A = identity(np.dot(w.T, X)+b)\n",
    "    A_val = identity(np.dot(w.T,X_val)+b)\n",
    "    \n",
    "    cost = (1/m)*np.sum((Y-A)**2)\n",
    "    cost_val = (1/m_val)*np.sum((Y_val-A_val)**2)\n",
    "    \n",
    "    dw = (1/m)*np.dot(X, (A-Y).T)\n",
    "    db = (1/m)*np.sum(A-Y)\n",
    "    \n",
    "\n",
    "    assert(dw.shape == w.shape)\n",
    "    assert(db.dtype == float)\n",
    "    cost = np.squeeze(cost)\n",
    "    cost_val = np.squeeze(cost_val)\n",
    "    assert(cost.shape == ())\n",
    "    \n",
    "    grads = {\"dw\": dw,\n",
    "             \"db\": db}\n",
    "    \n",
    "    return grads, cost, cost_val"
   ]
  },
  {
   "cell_type": "markdown",
   "metadata": {},
   "source": [
    "## 3. Actualizacion de los pesos y el bias"
   ]
  },
  {
   "cell_type": "markdown",
   "metadata": {},
   "source": [
    "<font size=4>\n",
    "    \n",
    "La función *optimize(  )*  actualiza a los pesos $w$ y al bias $b$ usando el método de gradiente descendente.\n",
    "Se calculan los costos tanto para las muestras para el entrenamiento como para las muestras para el desarrollo del aprendizaje.\n",
    "    \n",
    "Los pesos $ w $ y el bias $ b $ son modificados en cada época hasta que la función de costo $ J $ llega a su valor mínimo. \n",
    "\n",
    "Para el peso $ w $, la regla de actualización es $ w = w - \\alpha \\text {} dw $, donde $ \\alpha $ es el parámetro de aprendizaje.\n",
    "\n",
    "Para el bias $ b $, la regla de actualización es $ b = b - \\alpha \\text {} db $, donde $ \\alpha $ es el parámetro de define la relación de aprendizaje."
   ]
  },
  {
   "cell_type": "code",
   "execution_count": null,
   "metadata": {
    "ExecuteTime": {
     "end_time": "2020-10-14T00:52:10.773668Z",
     "start_time": "2020-10-14T00:52:10.764579Z"
    }
   },
   "outputs": [],
   "source": [
    "def optimize(w, b, X, Y, X_val, Y_val, epochs, learning_rate, print_cost = False):\n",
    "    \n",
    "    costs = []\n",
    "    costs_val = []\n",
    "    \n",
    "    for i in range(epochs):\n",
    "        \n",
    "        \n",
    "        grads, cost, cost_val = propagate(w, b, X, Y,X_val,Y_val)\n",
    "        \n",
    "        dw = grads[\"dw\"]\n",
    "        db = grads[\"db\"]\n",
    "        \n",
    "        w = w-learning_rate*dw\n",
    "        b = b-learning_rate*db\n",
    "        \n",
    "        if i % 100 == 0:\n",
    "            costs.append(cost)\n",
    "            costs_val.append(cost_val)\n",
    "        \n",
    "        # Print the cost every 100 training iterations\n",
    "        if print_cost and i % 100 == 0:\n",
    "            print (\"Cost and Cost_val after epoch %i: %f %f\" %(i, cost, cost_val))\n",
    "    \n",
    "    params = {\"w\": w,\n",
    "              \"b\": b}\n",
    "    \n",
    "    grads = {\"dw\": dw,\n",
    "             \"db\": db}\n",
    "    \n",
    "    return params, grads, costs, costs_val"
   ]
  },
  {
   "cell_type": "markdown",
   "metadata": {},
   "source": [
    "## 4. Calculo de predicciones."
   ]
  },
  {
   "cell_type": "markdown",
   "metadata": {},
   "source": [
    "<font size=4>\n",
    "    \n",
    "Una vez que se encuentran los valores del peso w y del bias b que minimizan la función de costo, se emplean para inferir los valores Y asociados con un conjunto de datos X.\n",
    "\n",
    "La función `predic()` calcula $f(w ^ T X + b)$ empleando los valores de $w$ y $b$ para los cuales el costo es mínimo.\n"
   ]
  },
  {
   "cell_type": "code",
   "execution_count": null,
   "metadata": {
    "ExecuteTime": {
     "end_time": "2020-10-14T00:52:10.788608Z",
     "start_time": "2020-10-14T00:52:10.776183Z"
    }
   },
   "outputs": [],
   "source": [
    "def predict(w, b, X):\n",
    "    \n",
    "    w = w.reshape(X.shape[0], 1)\n",
    "    A = identity(np.dot(w.T, X)+b)\n",
    "    \n",
    "    return A"
   ]
  },
  {
   "cell_type": "markdown",
   "metadata": {},
   "source": [
    "<font size=4>\n",
    "Para calcular la precision del modelo se usa el error medio cuadático, MSE:\n",
    "\n",
    "$$100-MSE*100$$\n",
    "\n",
    "es decir\n",
    "\n",
    "$$100-(\\dfrac{1}{m}\\Sigma_{i}(y_{i}-a_{i})^2)*100$$"
   ]
  },
  {
   "cell_type": "markdown",
   "metadata": {},
   "source": [
    "## 5. Modelo: se juntan los pasos 1, 2, 3 y 4"
   ]
  },
  {
   "cell_type": "code",
   "execution_count": null,
   "metadata": {
    "ExecuteTime": {
     "end_time": "2020-10-14T00:52:10.805756Z",
     "start_time": "2020-10-14T00:52:10.789895Z"
    }
   },
   "outputs": [],
   "source": [
    "def model(X_train, Y_train, X_val, Y_val, epochs = 2000, learning_rate = 0.5, print_cost = False):\n",
    "    \"\"\"\n",
    "    Builds the logistic regression model by calling the function you've implemented previously\n",
    "    \n",
    "    Arguments:\n",
    "    X_train -- training set represented by a numpy array of shape (num_px * num_px * 3, m_train)\n",
    "    Y_train -- training labels represented by a numpy array (vector) of shape (1, m_train)\n",
    "    X_val -- test set represented by a numpy array of shape (num_px * num_px * 3, m_val)\n",
    "    Y_val -- test labels represented by a numpy array (vector) of shape (1, m_val)\n",
    "    epochs -- hyperparameter representing the number of iterations to optimize the parameters\n",
    "    learning_rate -- hyperparameter representing the learning rate used in the update rule of optimize()\n",
    "    print_cost -- Set to true to print the cost every 100 iterations\n",
    "    \n",
    "    Returns:\n",
    "    d -- dictionary containing information about the model.\n",
    "    \"\"\"\n",
    "        \n",
    "    # 1. inicializacion de parametros\n",
    "    w, b = initialize_params(X_train.shape[0])\n",
    "\n",
    "    # 2. y 3. Actualizacion de parametros\n",
    "    parameters, grads, costs, costs_val = optimize(w, b, X_train, Y_train, X_val, Y_val, epochs, learning_rate, print_cost = print_cost)\n",
    "    \n",
    "    w = parameters[\"w\"]\n",
    "    b = parameters[\"b\"]\n",
    "    \n",
    "    # 4. Predicciones\n",
    "    Y_prediction_val = predict(w, b, X_val)\n",
    "    Y_prediction_train = predict(w, b, X_train)\n",
    "\n",
    "    # Print train/val Errors\n",
    "    print(\"train accuracy: {} %\".format(100 - np.mean(np.power(Y_prediction_train - Y_train, 2)) * 100))\n",
    "    print(\"val accuracy: {} %\".format(100 - np.mean(np.power(Y_prediction_val - Y_val, 2)) * 100))\n",
    "\n",
    "    \n",
    "    d = {\"costs\": costs, \"costs_val\": costs_val,\n",
    "         \"Y_prediction_val\": Y_prediction_val, \n",
    "         \"Y_prediction_train\" : Y_prediction_train, \n",
    "         \"w\" : w, \n",
    "         \"b\" : b,\n",
    "         \"learning_rate\" : learning_rate,\n",
    "         \"epochs\": epochs}\n",
    "    \n",
    "    return d"
   ]
  },
  {
   "cell_type": "code",
   "execution_count": null,
   "metadata": {
    "ExecuteTime": {
     "end_time": "2020-10-14T00:52:10.937159Z",
     "start_time": "2020-10-14T00:52:10.807939Z"
    }
   },
   "outputs": [],
   "source": [
    "epochs = 2000\n",
    "learning_rate = 0.01\n",
    "d = model(train_x, train_y.T, val_x, val_y.T, epochs = epochs, \n",
    "          learning_rate = learning_rate, print_cost = True)"
   ]
  },
  {
   "cell_type": "code",
   "execution_count": null,
   "metadata": {
    "ExecuteTime": {
     "end_time": "2020-10-14T00:52:11.058767Z",
     "start_time": "2020-10-14T00:52:10.938901Z"
    }
   },
   "outputs": [],
   "source": [
    "costs = np.squeeze(d['costs'])\n",
    "costs_val = np.squeeze(d['costs_val'])\n",
    "\n",
    "plt.plot(costs)\n",
    "plt.plot(costs_val)\n",
    "plt.ylabel('cost')\n",
    "plt.xlabel('epochs (x100)')\n",
    "plt.title(\"Learning rate =\" + str(d[\"learning_rate\"]))\n",
    "plt.legend(['cost_train', 'cost_val'],loc=0);\n",
    "\n"
   ]
  },
  {
   "cell_type": "code",
   "execution_count": null,
   "metadata": {
    "ExecuteTime": {
     "end_time": "2020-10-14T00:52:11.476999Z",
     "start_time": "2020-10-14T00:52:11.060380Z"
    }
   },
   "outputs": [],
   "source": [
    "learning_rates = [0.01, 0.005, 0.001]\n",
    "models = {}\n",
    "for i in learning_rates:\n",
    "    print (\"learning rate is: \", i)\n",
    "    models[str(i)] = model(train_x, train_y.T, val_x, val_y.T, epochs = 2000, learning_rate = i, print_cost = False)\n",
    "    print ('\\n' + \"-------------------------------------------------------\" + '\\n')\n",
    "\n",
    "for i in learning_rates:\n",
    "    plt.plot(np.squeeze(models[str(i)][\"costs\"]), label= str(models[str(i)][\"learning_rate\"]))\n",
    "    plt.plot(np.squeeze(models[str(i)][\"costs_val\"]), label= str(models[str(i)][\"learning_rate\"]))\n",
    "    \n",
    "plt.ylabel('cost')\n",
    "plt.xlabel('epocs (x100)')\n",
    "\n",
    "legend = plt.legend(loc='upper center', shadow=True)\n",
    "frame = legend.get_frame()\n",
    "frame.set_facecolor('0.90');"
   ]
  },
  {
   "cell_type": "markdown",
   "metadata": {},
   "source": [
    "<font size=5 color='blue'>\n",
    "\n",
    "# <center> Non-Linear Regression Analysis </center>"
   ]
  },
  {
   "cell_type": "markdown",
   "metadata": {},
   "source": [
    "<font size=4>\n",
    "    \n",
    "Consideramos que la variable objetivo Y no varía linealmente con los rasgos X, sino que la variación es ligeramente no lineal. Esto lo modelamos empleando como función de transformación la función $atanh(x)$. Por ejemplo: $$ $$\n",
    "    $$ atanh(x) = 1.7159*tanh(2x/3) $$"
   ]
  },
  {
   "cell_type": "code",
   "execution_count": null,
   "metadata": {
    "ExecuteTime": {
     "end_time": "2020-10-14T00:52:11.482579Z",
     "start_time": "2020-10-14T00:52:11.478814Z"
    }
   },
   "outputs": [],
   "source": [
    "def tanh(x):\n",
    "    return (np.exp(x)-np.exp(-x))/(np.exp(x)+np.exp(-x))"
   ]
  },
  {
   "cell_type": "code",
   "execution_count": null,
   "metadata": {
    "ExecuteTime": {
     "end_time": "2020-10-14T00:52:11.638943Z",
     "start_time": "2020-10-14T00:52:11.484554Z"
    }
   },
   "outputs": [],
   "source": [
    "#The following arrays are generated for plotting the Function F(x, weight_0, bias_0)\n",
    "x_ = np.arange(-2, 2.0, 0.1)\n",
    "y_ = 1.7159*tanh((2/3*x_))\n",
    "\n",
    "#Samples and function F are plotted\n",
    "plt.figure(figsize=(13,8))\n",
    "plt.figure(figsize=(13,8))\n",
    "plt.ylabel('Y', fontsize=16)\n",
    "plt.xlabel('X', fontsize=16)\n",
    "plt.grid(True)\n",
    "plt.title('atanh = 2.7159*tanh((2/3*x)', size=20)\n",
    "\n",
    "#Plotting function\n",
    "plt.plot(x_, y_, color='green', lw=4);"
   ]
  },
  {
   "cell_type": "markdown",
   "metadata": {
    "ExecuteTime": {
     "end_time": "2020-10-13T20:46:28.106905Z",
     "start_time": "2020-10-13T20:46:28.101767Z"
    }
   },
   "source": [
    "<font size=5 color='blue'>\n",
    "Algoritmo que relaciona las variables X y Y"
   ]
  },
  {
   "cell_type": "markdown",
   "metadata": {},
   "source": [
    "<font size= 4>\n",
    "Se tienen $m$ muestras. \n",
    "    \n",
    "Para una muestra $x^{(i)}$:\n",
    "\n",
    "$$z^{(i)} = w^T x^{(i)} + b \\tag{1}$$\n",
    "\n",
    "$z^{(i)}$ es la combinacion lineal entre los pesos ($w$) y la muestra $x^{(i)}$ + el bias b. Posteriormente esta sumatoria es activada, para generar le valor de salida $a^{(i)}$, mediante una función: en el presente caso función es una *atanh*, porque consideramos que la relación es ligeramente no-lineal.\n",
    "\n",
    "$$f(z^{(i)}) = a^{(i)} = atanh(z^{(i)}\\tag{2})$$ \n",
    "\n",
    "La funcion de perdida (*loss*), tambien llamada costo *cost*, J, es el promedio, sobre todas las muestras, de la diferencia al cuadrado entre el valor medido ($y^{(i)}$) y el valor que predice la funcion de activacion ($f(x^{(i)})$).  \n",
    "\n",
    "$$ J = \\frac{1}{m} \\sum_{i=1}^m (a^{(i)} - y^{(i)})^2\\tag{3}$$\n",
    "\n",
    "\n"
   ]
  },
  {
   "cell_type": "markdown",
   "metadata": {},
   "source": [
    "<font size=4>\n",
    "\n",
    "Si la función atanh es: $$ atanh(z^{(i)}) = 1.7159*tanh(2*z^{(i)}/3) $$\n",
    "\n",
    "\n",
    "La funcion de costo, $J$ está dada por:\n",
    "\n",
    "$$ J = \\dfrac{1}{m}\\sum_{i=0}^{m}(1.7159*tanh(2*z^{(i)}/3)-y^{(i)})^2$$\n",
    "\n",
    "\n",
    "Las derivadas de la funcion de costo respecto a los pesos $ w$ y el bias $ b$ es:\n",
    "\n",
    "\n",
    "$$ \\dfrac{\\partial J(\\omega, b)}{\\partial \\omega} = \\dfrac{2}{m}\\sum_{i}(a_1tanh(a_2(\\omega x_i + b)) -y_i)(a_1(1-tanh^2(a_2(\\omega x_i + b))))(a_2x_i)$$\n",
    "\n",
    "$$ \\dfrac{\\partial J(\\omega, b)}{\\partial b} = \\dfrac{2}{m}\\sum_{i}(a_1tanh(a_2(\\omega x_i + b)) -y_i)(a_1(1-tanh^2(a_2(\\omega x_i + b))))a_2$$\n",
    "\n"
   ]
  },
  {
   "cell_type": "markdown",
   "metadata": {},
   "source": [
    "    \n",
    "## 1. Se inicializan las variables del algoritmo que define la relación entre X y Y. "
   ]
  },
  {
   "cell_type": "code",
   "execution_count": null,
   "metadata": {
    "ExecuteTime": {
     "end_time": "2020-10-14T00:52:11.645331Z",
     "start_time": "2020-10-14T00:52:11.640808Z"
    }
   },
   "outputs": [],
   "source": [
    "def initialize_params_1(dim):\n",
    "    \"\"\"\n",
    "    This function creates a vector of zeros of shape (dim, 1) for w and initializes b to 0.\n",
    "    \n",
    "    Argument:\n",
    "    dim -- size of the w vector we want (or number of parameters in this case)\n",
    "    \n",
    "    Returns:\n",
    "    w -- initialized vector of shape (dim, 1)\n",
    "    b -- initialized scalar (corresponds to the bias)\n",
    "    \"\"\"\n",
    "    \n",
    "    w = np.reshape(np.random.uniform(-0.1, 0.1, dim), (dim, 1))\n",
    "    b = 0\n",
    "\n",
    "    assert(w.shape == (dim, 1))\n",
    "    assert(isinstance(b, float) or isinstance(b, int))\n",
    "    \n",
    "    return w, b"
   ]
  },
  {
   "cell_type": "code",
   "execution_count": null,
   "metadata": {
    "ExecuteTime": {
     "end_time": "2020-10-14T00:52:11.659732Z",
     "start_time": "2020-10-14T00:52:11.646567Z"
    }
   },
   "outputs": [],
   "source": [
    "def atanh(z):\n",
    "    return 1.7159*np.tanh((2/3)*z)"
   ]
  },
  {
   "cell_type": "code",
   "execution_count": null,
   "metadata": {
    "ExecuteTime": {
     "end_time": "2020-10-14T00:52:11.659732Z",
     "start_time": "2020-10-14T00:52:11.646567Z"
    }
   },
   "outputs": [],
   "source": [
    "def d_atanh(z):\n",
    "    return 1.7159*(1-np.square(atanh(z)))*(2/3)"
   ]
  },
  {
   "cell_type": "code",
   "execution_count": null,
   "metadata": {
    "ExecuteTime": {
     "end_time": "2020-10-14T00:52:11.676212Z",
     "start_time": "2020-10-14T00:52:11.660919Z"
    }
   },
   "outputs": [],
   "source": [
    "# Probando el código\n",
    "\n",
    "dim = train_x.shape[0]\n",
    "w, b = initialize_params(dim)\n",
    "print (\"w = \" + str(w))\n",
    "print (\"b = \" + str(b))"
   ]
  },
  {
   "cell_type": "code",
   "execution_count": null,
   "metadata": {
    "ExecuteTime": {
     "end_time": "2020-10-14T00:52:11.688872Z",
     "start_time": "2020-10-14T00:52:11.677368Z"
    }
   },
   "outputs": [],
   "source": [
    "def propagate_1(w, b, X, Y, X_val, Y_val):\n",
    "    \n",
    "    m = X.shape[1]\n",
    "    m_val = X_val.shape[1]\n",
    "    \n",
    "    A = atanh(np.dot(w.T, X)+b)\n",
    "    A_val = atanh(np.dot(w.T,X_val)+b)\n",
    "    \n",
    "    cost = (1/m)*np.sum((Y-A)**2)\n",
    "    cost_val = (1/m_val)*np.sum((Y_val-A_val)**2)\n",
    "    \n",
    "    dA = A-Y\n",
    "    dZ = d_atanh(np.dot(w.T, X)+b)\n",
    "    \n",
    "    dw = (1/m)*np.dot(dA, (dZ*X).T).T    \n",
    "    db = (1/m)*np.sum((A-Y)*(1-np.power(A, 2)), axis=1, keepdims=True)  \n",
    "    \n",
    "    \n",
    "    assert(dw.shape == w.shape)\n",
    "    assert(db.dtype == float)\n",
    "    cost = np.squeeze(cost)\n",
    "    assert(cost.shape == ())\n",
    "    \n",
    "    grads = {\"dw\": dw,\n",
    "             \"db\": db}\n",
    "    \n",
    "    return grads, cost, cost_val"
   ]
  },
  {
   "cell_type": "code",
   "execution_count": null,
   "metadata": {
    "ExecuteTime": {
     "end_time": "2020-10-14T00:52:11.702110Z",
     "start_time": "2020-10-14T00:52:11.690173Z"
    }
   },
   "outputs": [],
   "source": [
    "x1_val = np.array([[1.,2.,-2.],[2.,4.,-3.2]])\n",
    "y1_val = np.array([[1,0,2]])\n",
    "\n",
    "w, b, X, Y = np.array([[1.],[2.]]), 2., np.array([[1.,2.,-1.],[3.,4.,-3.2]]), np.array([[1,0,1]])\n",
    "grads, cost, cost_val = propagate_1(w, b, X, Y,x1_val, y1_val)\n",
    "print (\"dw = \" + str(grads[\"dw\"]))\n",
    "print (\"db = \" + str(grads[\"db\"]))\n",
    "print (\"cost = \" + str(cost))\n"
   ]
  },
  {
   "cell_type": "markdown",
   "metadata": {},
   "source": [
    "<font size=4>\n",
    "    \n",
    "La funcion *optimize_1(  )*  actualiza los pesos $w$ y el bias $b$ empleando el método de gradiente descendente.\n",
    "\n",
    "Los pesos $ w $ y el bias $ b $ son modificados hasta que alcanzar el mínimo de la función de costo $ J $. \n",
    "\n",
    "Para el peso $ w $, la regla de actualización es $ w = w - \\alpha \\text {} dw $, donde $ \\alpha $ es el parámetro de aprendizaje (learning_rate).\n",
    "\n",
    "Para el bias $ b $, la regla de actualización es $ b = b - \\alpha \\text {} db $, donde $ \\alpha $ es el parámetro que define la relación de aprendizaje (learning_rate)."
   ]
  },
  {
   "cell_type": "code",
   "execution_count": null,
   "metadata": {
    "ExecuteTime": {
     "end_time": "2020-10-14T00:52:11.713249Z",
     "start_time": "2020-10-14T00:52:11.703367Z"
    }
   },
   "outputs": [],
   "source": [
    "def optimize_1(w, b, X, Y, X_val, Y_val, epochs, learning_rate, print_cost = False):\n",
    "    \n",
    "    costs = []\n",
    "    costs_val = []\n",
    "    \n",
    "    for i in range(epochs):\n",
    "        \n",
    "        grads, cost, cost_val = propagate_1(w, b, X, Y, X_val, Y_val)\n",
    "        \n",
    "        # Retrieve derivatives from grads\n",
    "        dw = grads[\"dw\"]\n",
    "        db = grads[\"db\"]\n",
    "        \n",
    "        # update parameters\n",
    "        w = w-learning_rate*dw\n",
    "        b = b-learning_rate*db\n",
    "        \n",
    "        # Record the costs\n",
    "        if i % 100 == 0:\n",
    "            costs.append(cost)\n",
    "            costs_val.append(cost_val)\n",
    "        \n",
    "        # Print the cost every 100 training iterations\n",
    "        if print_cost and i % 100 == 0:\n",
    "            print (\"Cost and Cost_val after iteration %i: %f %f\" %(i, cost, cost_val))\n",
    "    \n",
    "    params = {\"w\": w,\n",
    "              \"b\": b}\n",
    "    \n",
    "    grads = {\"dw\": dw,\n",
    "             \"db\": db}\n",
    "    \n",
    "    return params, grads, costs, costs_val"
   ]
  },
  {
   "cell_type": "code",
   "execution_count": null,
   "metadata": {
    "ExecuteTime": {
     "end_time": "2020-10-14T00:52:11.738600Z",
     "start_time": "2020-10-14T00:52:11.714498Z"
    }
   },
   "outputs": [],
   "source": [
    "epochs = 100\n",
    "params, grads, costs, costs_val = optimize_1(w, b, X, Y, x1_val, y1_val, epochs=epochs, learning_rate = 0.009, print_cost = False)\n",
    "\n",
    "print (\"w = \" + str(params[\"w\"]))\n",
    "print (\"b = \" + str(params[\"b\"]))\n",
    "print (\"dw = \" + str(grads[\"dw\"]))\n",
    "print (\"db = \" + str(grads[\"db\"]))"
   ]
  },
  {
   "cell_type": "markdown",
   "metadata": {},
   "source": [
    "<font size=4>\n",
    "Una vez que se encuentran los valores del peso w y del bias b que minimizan la función de costo, se emplean para inferir los valores Y asociados a un conjunto de datos X.\n",
    "\n",
    "La función `predic ()` calcula $ Y = f(W ^ T X + b) $\n"
   ]
  },
  {
   "cell_type": "code",
   "execution_count": null,
   "metadata": {
    "ExecuteTime": {
     "end_time": "2020-10-14T00:52:11.749160Z",
     "start_time": "2020-10-14T00:52:11.739754Z"
    }
   },
   "outputs": [],
   "source": [
    "def predict_1(w, b, X):\n",
    "    \n",
    "    #m = X.shape[1]\n",
    "    #Y_prediction = np.zeros((1,m))\n",
    "    w = w.reshape(X.shape[0], 1)\n",
    "    \n",
    "    # Compute vector \"A\" predicting the probabilities of a cat being present in the picture\n",
    "    #A = sigmoid(np.dot(w.T, X)+b)\n",
    "    A = atanh(np.dot(w.T, X)+b)\n",
    "    \n",
    "    return A"
   ]
  },
  {
   "cell_type": "code",
   "execution_count": null,
   "metadata": {
    "ExecuteTime": {
     "end_time": "2020-10-14T00:52:11.761269Z",
     "start_time": "2020-10-14T00:52:11.750448Z"
    }
   },
   "outputs": [],
   "source": [
    "w = np.array([[0.1124579],[0.23106775]])\n",
    "b = 0.0\n",
    "X = np.array([[1.,-1.1,-3.2],[1.2,2.,0.1]])\n",
    "print (\"predictions = \" + str(predict_1(w, b, X)))"
   ]
  },
  {
   "cell_type": "markdown",
   "metadata": {},
   "source": [
    "<font size=4>\n",
    "Para estructurar el modelo se juntan todos las funciones implementadas en las partes anteriores, en el orden correcto.\n"
   ]
  },
  {
   "cell_type": "code",
   "execution_count": null,
   "metadata": {
    "ExecuteTime": {
     "end_time": "2020-10-14T00:52:11.773260Z",
     "start_time": "2020-10-14T00:52:11.762612Z"
    }
   },
   "outputs": [],
   "source": [
    "def model_1(X_train, Y_train, X_val, Y_val, epochs = 2000, learning_rate = 0.5, print_cost = False):\n",
    "    \"\"\"\n",
    "    Builds the logistic regression model by calling the function you've implemented previously\n",
    "    \n",
    "    Arguments:\n",
    "    X_train -- training set represented by a numpy array of shape (num_px * num_px * 3, m_train)\n",
    "    Y_train -- training labels represented by a numpy array (vector) of shape (1, m_train)\n",
    "    X_val -- test set represented by a numpy array of shape (num_px * num_px * 3, m_val)\n",
    "    Y_val -- test labels represented by a numpy array (vector) of shape (1, m_val)\n",
    "    epochs -- hyperparameter representing the number of iterations to optimize the parameters\n",
    "    learning_rate -- hyperparameter representing the learning rate used in the update rule of optimize()\n",
    "    print_cost -- Set to true to print the cost every 100 iterations\n",
    "    \n",
    "    Returns:\n",
    "    d -- dictionary containing information about the model.\n",
    "    \"\"\"\n",
    "        \n",
    "    # initialize parameters\n",
    "    w, b = initialize_params_1(X_train.shape[0])\n",
    "\n",
    "    # Gradient descent \n",
    "    parameters, grads, costs, costs_val = optimize_1(w, b, X_train, Y_train, X_val, Y_val, epochs, learning_rate, print_cost = print_cost)\n",
    "    \n",
    "    # Retrieve parameters w and b from dictionary \"parameters\"\n",
    "    w = parameters[\"w\"]\n",
    "    b = parameters[\"b\"]\n",
    "    \n",
    "    print(w.shape)\n",
    "    \n",
    "    # Predict val/train set examples\n",
    "    Y_prediction_val = predict_1(w, b, X_val)\n",
    "    Y_prediction_train = predict_1(w, b, X_train)\n",
    "\n",
    "    # Print train/val Errors\n",
    "    print(\"train accuracy: {} %\".format(100 - np.mean(np.power(Y_prediction_train - Y_train, 2)) * 100))\n",
    "    print(\"val accuracy: {} %\".format(100 - np.mean(np.power(Y_prediction_val - Y_val, 2)) * 100))\n",
    "\n",
    "    \n",
    "    d = {\"costs\": costs,\"costs_val\": costs_val,\n",
    "         \"Y_prediction_val\": Y_prediction_val, \n",
    "         \"Y_prediction_train\" : Y_prediction_train, \n",
    "         \"w\" : w, \n",
    "         \"b\" : b,\n",
    "         \"learning_rate\" : learning_rate,\n",
    "         \"num_iterations\": epochs}\n",
    "    \n",
    "    return d"
   ]
  },
  {
   "cell_type": "code",
   "execution_count": null,
   "metadata": {
    "ExecuteTime": {
     "end_time": "2020-10-14T00:52:12.040322Z",
     "start_time": "2020-10-14T00:52:11.774686Z"
    }
   },
   "outputs": [],
   "source": [
    "epochs = 1000\n",
    "learning_rate = 0.005\n",
    "\n",
    "d = model_1(train_x, train_y.T, val_x, val_y.T, epochs = epochs, \n",
    "          learning_rate = learning_rate, print_cost = True)"
   ]
  },
  {
   "cell_type": "code",
   "execution_count": null,
   "metadata": {
    "ExecuteTime": {
     "end_time": "2020-10-14T00:52:12.144669Z",
     "start_time": "2020-10-14T00:52:12.041782Z"
    }
   },
   "outputs": [],
   "source": [
    "costs = np.squeeze(d['costs'])\n",
    "costs_val = np.squeeze(d['costs_val'])\n",
    "\n",
    "plt.plot(costs, color='red')\n",
    "plt.plot(costs_val, color='green')\n",
    "plt.ylabel('cost')\n",
    "plt.xlabel('epoch x 100')\n",
    "plt.title(\"Learning rate =\" + str(d[\"learning_rate\"]))\n",
    "plt.legend(['cost_train', 'cost_val'],loc=0);\n"
   ]
  },
  {
   "cell_type": "code",
   "execution_count": null,
   "metadata": {
    "ExecuteTime": {
     "end_time": "2020-10-14T00:52:12.944408Z",
     "start_time": "2020-10-14T00:52:12.146243Z"
    }
   },
   "outputs": [],
   "source": [
    "learning_rates = [0.005, 0.003, 0.001]\n",
    "models = {}\n",
    "for i in learning_rates:\n",
    "    print (\"learning rate is: \", i)\n",
    "    models[str(i)] = model_1(train_x, train_y.T, val_x, val_y.T, epochs = 1000, learning_rate = i, print_cost = False)\n",
    "    print ('\\n' + \"-------------------------------------------------------\" + '\\n')\n",
    "\n",
    "for i in learning_rates:\n",
    "    plt.plot(np.squeeze(models[str(i)][\"costs\"]), label= str(models[str(i)][\"learning_rate\"]))\n",
    "    plt.plot(np.squeeze(models[str(i)][\"costs_val\"]), label= str(models[str(i)][\"learning_rate\"]))\n",
    "plt.ylabel('cost')\n",
    "plt.xlabel('epochx100')\n",
    "\n",
    "legend = plt.legend(loc='upper center', shadow=True)\n",
    "frame = legend.get_frame()\n",
    "frame.set_facecolor('0.90')\n",
    "plt.show()"
   ]
  },
  {
   "cell_type": "markdown",
   "metadata": {},
   "source": [
    "<font size=5 color='blue'>\n",
    "\n",
    "# <center> Artificial Neural Networks </center>\n",
    "\n",
    "\n"
   ]
  },
  {
   "cell_type": "code",
   "execution_count": null,
   "metadata": {
    "ExecuteTime": {
     "end_time": "2020-10-14T00:52:12.951517Z",
     "start_time": "2020-10-14T00:52:12.946565Z"
    }
   },
   "outputs": [],
   "source": [
    "print(train_x.shape)\n",
    "print(train_y.shape)\n",
    "print(val_x.shape)\n",
    "print(val_y.shape)"
   ]
  },
  {
   "cell_type": "code",
   "execution_count": null,
   "metadata": {
    "ExecuteTime": {
     "end_time": "2020-10-14T00:52:12.963477Z",
     "start_time": "2020-10-14T00:52:12.953451Z"
    }
   },
   "outputs": [],
   "source": [
    "train_y = train_y.T\n",
    "val_y = val_y.T"
   ]
  },
  {
   "cell_type": "code",
   "execution_count": null,
   "metadata": {
    "ExecuteTime": {
     "end_time": "2020-10-14T00:52:12.976370Z",
     "start_time": "2020-10-14T00:52:12.965456Z"
    }
   },
   "outputs": [],
   "source": [
    "print(train_x.shape)\n",
    "print(train_y.shape)\n",
    "print(val_x.shape)\n",
    "print(val_y.shape)"
   ]
  },
  {
   "cell_type": "markdown",
   "metadata": {},
   "source": [
    "<font size=5 color='blue'>\n",
    "Implementación de una red neuronal del tipo \"Feedforward\"."
   ]
  },
  {
   "cell_type": "markdown",
   "metadata": {},
   "source": [
    "<font size=4>\n",
    "\n",
    "<p>La red neuronal tiene 3 capas: la capa de entrada, la capa de salida y una capa interior (en la literatura, se le da el nombre de capa oculta). </p>\n",
    "<p>El objetivo es encontrar una función que describa la evolución de la diabetes con los rasgos de la persona que se consideran importantes para su evolución. Los rasgos propuestos son: edad, sexo, índice de masa corporal, presión arterial promedio y seis mediciones de suero sanguíneo.</p>\n",
    "<p>Esta función se genera mediante una red de neuronas. Se entiende como neurona un modelo matemático simple de una neurona biológica.</p>\n",
    "</font>"
   ]
  },
  {
   "cell_type": "markdown",
   "metadata": {
    "ExecuteTime": {
     "end_time": "2020-10-13T17:06:46.389123Z",
     "start_time": "2020-10-13T17:06:46.381702Z"
    }
   },
   "source": [
    "<font size=4>\n",
    "    \n",
    "1.1 Definición de la arquitectura de la red neuronal.\n",
    "\n",
    "Se emplea indistintamente la palabra neurona o nodo para referirse al modelo matemático de la neurona.\n",
    "\n",
    "La red neuronal esta compuesta de varias capas, la capa de entrada, la capa de salida, y varias capas internas. En la literatura, las capas internas son conocidas como capas ocultas, porque el entorno exterior a la red neuronal solo tiene contacto con la capa de entrada y la capa de salida.\n",
    "\n",
    "El número de nodos en la capa de entrada depende del numero de rasgos del sistema que definen la variable objetivo, la evolución de la diabetes. En el presente caso el número de rasgos es diez.\n",
    "\n",
    "El número de nodos en la capa de salida depende del tipo de problema. En el presente caso, se tiene una sola neurona, cuya salida nos da un número que cuantifica la evolución de la diabetes.\n",
    "\n",
    "En el presente modelo, sólo tenemos una capa interna, el número de nodos en ella es variable. Se hacen pruebas con diferentes números y se adopta el valor que da mejores resultados.\n",
    "\n",
    "La función layer_sizes() genera la arquitectura de la red neuronal partiendo de los datos con que se van a alimentar a la red.\n"
   ]
  },
  {
   "cell_type": "code",
   "execution_count": null,
   "metadata": {
    "ExecuteTime": {
     "end_time": "2020-10-14T00:52:12.988066Z",
     "start_time": "2020-10-14T00:52:12.978217Z"
    }
   },
   "outputs": [],
   "source": [
    "def layer_sizes(X, Y, n_h):\n",
    "    \"\"\"\n",
    "    Arguments:\n",
    "    X -- input dataset of shape (input size, number of examples)\n",
    "    Y -- labels of shape (output size, number of examples)\n",
    "    \n",
    "    Returns:\n",
    "    n_x -- the size of the input layer\n",
    "    n_h -- the size of the hidden layer\n",
    "    n_y -- the size of the output layer\n",
    "    \"\"\"\n",
    "    \n",
    "    n_x = X.shape[0] \n",
    "    n_h = n_h\n",
    "    n_y = Y.shape[0]\n",
    "    \n",
    "    return (n_x, n_h, n_y)"
   ]
  },
  {
   "cell_type": "code",
   "execution_count": null,
   "metadata": {
    "ExecuteTime": {
     "end_time": "2020-10-14T00:52:12.999481Z",
     "start_time": "2020-10-14T00:52:12.989439Z"
    }
   },
   "outputs": [],
   "source": [
    "n_h = 4\n",
    "n_x, n_h, n_y = layer_sizes(train_x, train_y, n_h = n_h)"
   ]
  },
  {
   "cell_type": "code",
   "execution_count": null,
   "metadata": {
    "ExecuteTime": {
     "end_time": "2020-10-14T00:52:13.011264Z",
     "start_time": "2020-10-14T00:52:13.000854Z"
    }
   },
   "outputs": [],
   "source": [
    "print(n_x, n_h, n_y)"
   ]
  },
  {
   "cell_type": "code",
   "execution_count": null,
   "metadata": {
    "ExecuteTime": {
     "end_time": "2020-10-14T00:52:13.022642Z",
     "start_time": "2020-10-14T00:52:13.012578Z"
    }
   },
   "outputs": [],
   "source": [
    "# Viualización de la arquitectura que define a la red neuronal:"
   ]
  },
  {
   "cell_type": "code",
   "execution_count": null,
   "metadata": {
    "ExecuteTime": {
     "end_time": "2020-10-14T00:52:13.511804Z",
     "start_time": "2020-10-14T00:52:13.024097Z"
    }
   },
   "outputs": [],
   "source": [
    "import matplotlib.pyplot as plt\n",
    "import numpy as np\n",
    "from matplotlib.patches import Circle\n",
    "from matplotlib.patches import ConnectionPatch\n",
    "\n",
    "import math as M\n",
    "import random\n",
    "\n",
    "\n",
    "#Vector principal, este lo modifica el usuario.\n",
    "vector = [10, 4, 1]\n",
    "\n",
    "'''#Esta seccion de abajo en rojo es por si el usuario gusta interactuar un poco.\n",
    "\n",
    "valor=int(input(\"Ingresar valor de la capa de entrada (-1 para finalizar): \"))\n",
    "while valor!=-1:\n",
    "    vector.append(valor)\n",
    "    valor=int(input(\"Ingresar valor (-1 para finalizar): \"))'''\n",
    "\n",
    "print('Tu red quedo asignada por: ', vector)\n",
    "\n",
    "fig, ax = plt.subplots(1)\n",
    "\n",
    "num_capas = len(vector)  \n",
    "\n",
    "radio = 0.5                  \n",
    "\n",
    "margen_x = 0\n",
    "margen_y = 3\n",
    "\n",
    "d_nodos = 5*radio                 \n",
    "\n",
    "origen_x = radio*4 +  margen_x     \n",
    "origen_y = radio*4 +  margen_y    \n",
    "\n",
    "lista_general_x=[]\n",
    "lista_general_y=[]\n",
    "\n",
    "for i in range(num_capas):                 \n",
    "    exec('Nnodos_capa{} = vector[i]'.format(i))            \n",
    "\n",
    "for i in range(num_capas):              \n",
    "    exec('lista_capa{}_x = []'.format(i))\n",
    "    exec('lista_capa{}_y = []'.format(i))\n",
    "\n",
    "    \n",
    "#____________________________________________________CIRCULOS_______________________________________________#\n",
    "\n",
    "\n",
    "delta_post = 0  \n",
    "delta_ante = 0\n",
    "k_i_1 = 0\n",
    "\n",
    "Nodo_max_y=max(vector)\n",
    "Y_nodo_max_y = round(origen_y + ((Nodo_max_y-1)*d_nodos), 6)  \n",
    "for m in range(num_capas):       \n",
    "    exec('k = Nnodos_capa{}'.format(m))  \n",
    "    \n",
    "    Rc=round(random.random(),4)\n",
    "    Gc=round(random.random(),4)\n",
    "    Bc=round(random.random(),4)\n",
    "    \n",
    "    for i in range(k):     \n",
    "        delta_post = (M.log(k_i_1 + 1))**3 + 2 \n",
    "        \n",
    "        X = round(origen_x + delta_ante + delta_post , 6)    \n",
    "        \n",
    "        altmax_capak = round(origen_y + (k*d_nodos), 6)\n",
    "        \n",
    "        delta_h = ((Y_nodo_max_y)-(altmax_capak-1))/2 \n",
    "        \n",
    "        Y = round(origen_y + (i*d_nodos) + delta_h, 6)\n",
    "        \n",
    "        exec('lista_capa{}_x.append(X)'.format(m))\n",
    "        exec('lista_capa{}_y.append(Y)'.format(m))\n",
    "        \n",
    "        circ = Circle((X, Y), radio, zorder=5, color=(Rc,Gc,Bc)) \n",
    "        \n",
    "        ax.add_patch(circ)  \n",
    "    delta_ante = X - origen_x         \n",
    "    k_i_1 = k        \n",
    "    exec('lista_general_x.append(lista_capa{}_x)'.format(m)) \n",
    "    exec('lista_general_y.append(lista_capa{}_y)'.format(m)) \n",
    "\n",
    "\n",
    "for l in range(num_capas):\n",
    "    exec('stalker_neuronal{} = list(zip(lista_general_x[l], lista_general_y[l]))'.format(l)) \n",
    "\n",
    "    \n",
    "#_______________________________________________________LINEAS______________________________________#\n",
    "\n",
    "\n",
    "for n in range(num_capas-1):    \n",
    "    exec('long_capa_inicial = len(stalker_neuronal{})'.format(n))\n",
    "    \n",
    "    for i in range(long_capa_inicial):  \n",
    "        exec('xyA = stalker_neuronal{} [i]'.format(n))        \n",
    "        \n",
    "        exec('long_capa_final = len(stalker_neuronal{})'.format(n+1))  \n",
    "        \n",
    "        Rl=round(random.random(),4)\n",
    "        Gl=round(random.random(),4)\n",
    "        Bl=round(random.random(),4)\n",
    "        \n",
    "        for l in range(long_capa_final):  \n",
    "            exec('xyB = stalker_neuronal{} [l]'.format(n+1))  \n",
    "            \n",
    "            linea = ConnectionPatch(xyA, xyB, coordsA = \"data\", coordsB = \"data\",   \n",
    "                      arrowstyle=\"-\", linewidth=2.5,color=(Rl,Gl,Bl),shrinkA=5, shrinkB=5,\n",
    "                      mutation_scale=1)\n",
    "            \n",
    "            ax.add_artist(linea)      \n",
    "                \n",
    "                \n",
    "#___________________________________________CONFIGURACION DE LA IMAGEN_______________________________#            \n",
    "            \n",
    "altura_img = Y_nodo_max_y + margen_y  \n",
    "\n",
    "encuadre_x = lista_general_x[num_capas - 1][0] + margen_x \n",
    "largo_img = encuadre_x + 3      \n",
    "\n",
    "ax.set_xlim(0,largo_img)   \n",
    "ax.set_ylim(0,altura_img)    \n",
    "\n",
    "\n",
    "nombre_marcas_x = [] \n",
    "\n",
    "for i in range(num_capas):\n",
    "    if i == 0:\n",
    "        nombre = str('Capa de entrada')  \n",
    "    elif i <= (num_capas-2):\n",
    "        nombre = str('Capa ' + str(i))       \n",
    "    elif i == (num_capas-1):\n",
    "        nombre = str('Capa de salida') \n",
    "        \n",
    "    nombre_marcas_x.append(nombre)       \n",
    "\n",
    "\n",
    "\n",
    "marcas_en_x = []  \n",
    "for i in range(num_capas):\n",
    "    marca = lista_general_x[i][0]  \n",
    "    marcas_en_x.append(marca)     \n",
    "\n",
    "\n",
    "    \n",
    "ax.set_xticks(marcas_en_x)           \n",
    "ax.set_xticklabels(nombre_marcas_x)   \n",
    "\n",
    "plt.setp(ax.get_xticklabels(), fontsize = 12,     \n",
    "         rotation=50, ha=\"right\")  \n",
    "\n",
    "string_de_red = str(vector)  \n",
    "titulo_completo = ('Arquitectura de Red Neuronal: ' + string_de_red)   \n",
    "\n",
    "ax.set_title(titulo_completo, fontsize = 15)   \n",
    "ax.set_ylabel('Neuronas', fontsize = 15)       \n",
    "\n",
    "ax.set_aspect('equal')   \n",
    "ax.grid(axis = 'x')  \n"
   ]
  },
  {
   "cell_type": "markdown",
   "metadata": {},
   "source": [
    "## 1.2 Inicializacion de los pesos y el bias."
   ]
  },
  {
   "cell_type": "markdown",
   "metadata": {},
   "source": [
    "<font size=4>\n",
    "\n",
    "La funcion *initialize_parameters()* inicializa a los pesos $W$ y el bias $b$. \n",
    "\n",
    "Dado que se tiene un conjunto de variables independientes, se debe definir un peso para cada variable, esto para una sola neurona de la siguiente capa. \n",
    "\n",
    "Entonces $W_1$ ahora es una matriz de tamaño $(n_h, n_x)$, en donde $n_h$ es el numero de nodos en la capa interna y $n_x$ es el número de nodos en la capa de entrada, es decir, es el número de variables independientes.\n",
    "\n",
    "Por cada neurona en la capa interna hay un bias, por lo que ahora $b_1$ es un vector de tamaño $(n_h, 1)$. \n",
    "\n",
    "En general para cada par de capas consecutivas debe haber un $W$ y un $b$.\n",
    "\n",
    "Generalizando:\n",
    "\n",
    "$W_i$ y $b_i$ son los parametros a definir entre la capa $i$ y la capa $i+1$. Si la capa $i$ tiene $n_i$ neuronas y la capa $i+1$ tiene $n_{i+1}$ neuronas entonces, las dimensiones de $Wi$ son $(n_{i+1}, n_i)$ y las dimensiones de $b_i$ son $(n_{i+1}, 1)$."
   ]
  },
  {
   "cell_type": "code",
   "execution_count": null,
   "metadata": {
    "ExecuteTime": {
     "end_time": "2020-10-14T00:52:13.519360Z",
     "start_time": "2020-10-14T00:52:13.513183Z"
    }
   },
   "outputs": [],
   "source": [
    "def initialize_parameters(n_x, n_h, n_y):\n",
    "    \"\"\"\n",
    "    Argument:\n",
    "    n_x -- size of the input layer\n",
    "    n_h -- size of the hidden layer\n",
    "    n_y -- size of the output layer\n",
    "    \n",
    "    Returns:\n",
    "    params -- python dictionary containing your parameters:\n",
    "                    W1 -- weight matrix of shape (n_h, n_x)\n",
    "                    b1 -- bias vector of shape (n_h, 1)\n",
    "                    W2 -- weight matrix of shape (n_y, n_h)\n",
    "                    b2 -- bias vector of shape (n_y, 1)\n",
    "    \"\"\"\n",
    "    \n",
    "    np.random.seed(2) \n",
    "    W1 = np.reshape(np.random.uniform(-0.1, 0.1, n_h*n_x), (n_h, n_x))\n",
    "    b1 = np.zeros((n_h, 1))\n",
    "    W2 = np.reshape(np.random.uniform(-0.1, 0.1, n_y*n_h), (n_y, n_h))\n",
    "    b2 = np.zeros((n_y, 1))\n",
    "    \n",
    "    \n",
    "    assert (W1.shape == (n_h, n_x))\n",
    "    assert (b1.shape == (n_h, 1))\n",
    "    assert (W2.shape == (n_y, n_h))\n",
    "    assert (b2.shape == (n_y, 1))\n",
    "    \n",
    "    parameters = {\"W1\": W1,\n",
    "                  \"b1\": b1,\n",
    "                  \"W2\": W2,\n",
    "                  \"b2\": b2}\n",
    "    \n",
    "    return parameters"
   ]
  },
  {
   "cell_type": "code",
   "execution_count": null,
   "metadata": {
    "ExecuteTime": {
     "end_time": "2020-10-14T00:52:13.534770Z",
     "start_time": "2020-10-14T00:52:13.521064Z"
    }
   },
   "outputs": [],
   "source": [
    "initialize_parameters(n_x, n_h, n_y)"
   ]
  },
  {
   "cell_type": "markdown",
   "metadata": {},
   "source": [
    "<font size=4>\n",
    "\n",
    "## 2. Conexión entre las neuronas de capas contiguas.\n",
    "\n",
    "\n",
    "La función *propagate()* realiza la combinación lineal entre los valores de salida de los nodos de una capa con los pesos y bias definidos entre esa capa y la siguiente. \n",
    "\n",
    "La función de activación que se aplica a esta sumatoria, es para considerar efectos no lineales.\n",
    "\n",
    "\n",
    "___\n",
    "\n",
    "Funciones de activación disponibles en la presente notebook: "
   ]
  },
  {
   "cell_type": "code",
   "execution_count": null,
   "metadata": {
    "ExecuteTime": {
     "end_time": "2020-10-14T00:52:13.546058Z",
     "start_time": "2020-10-14T00:52:13.536877Z"
    }
   },
   "outputs": [],
   "source": [
    "#Función para considerar los efectos no lineales.\n",
    "#En el presente caso se considera un modelo completamente lineal.\n",
    "#Por ello la función es la identidad.\n",
    "\n",
    "def identity(z):\n",
    "    \"\"\"\n",
    "    Arguments:\n",
    "    z -- A scalar or numpy array of any size.\n",
    "\n",
    "    Return:\n",
    "    s -- z\n",
    "    \"\"\"\n",
    "    s = 1.0 * z\n",
    "    \n",
    "    return s"
   ]
  },
  {
   "cell_type": "code",
   "execution_count": null,
   "metadata": {
    "ExecuteTime": {
     "end_time": "2020-10-14T00:52:13.557543Z",
     "start_time": "2020-10-14T00:52:13.547338Z"
    }
   },
   "outputs": [],
   "source": [
    "def identity_derivative(z):\n",
    "    return 1.0 * z * (1/z)"
   ]
  },
  {
   "cell_type": "code",
   "execution_count": null,
   "metadata": {
    "ExecuteTime": {
     "end_time": "2020-10-14T00:52:13.569169Z",
     "start_time": "2020-10-14T00:52:13.558764Z"
    }
   },
   "outputs": [],
   "source": [
    "def tanh(z):\n",
    "    return (np.exp(z)-np.exp(-z))/(np.exp(z)+np.exp(-z))"
   ]
  },
  {
   "cell_type": "code",
   "execution_count": null,
   "metadata": {
    "ExecuteTime": {
     "end_time": "2020-10-14T00:52:13.580652Z",
     "start_time": "2020-10-14T00:52:13.570574Z"
    }
   },
   "outputs": [],
   "source": [
    "def tanh_derivative(z):\n",
    "    return 1-np.power(tanh(z), 2)"
   ]
  },
  {
   "cell_type": "code",
   "execution_count": null,
   "metadata": {
    "ExecuteTime": {
     "end_time": "2020-10-14T00:52:13.592257Z",
     "start_time": "2020-10-14T00:52:13.581944Z"
    }
   },
   "outputs": [],
   "source": [
    "def sigmoid(z):\n",
    "    \"\"\"\n",
    "    Compute the sigmoid of z\n",
    "\n",
    "    Arguments:\n",
    "    z -- A scalar or numpy array of any size.\n",
    "\n",
    "    Return:\n",
    "    s -- sigmoid(z)\n",
    "    \"\"\"\n",
    "    s = 1/(1+np.exp(-z))\n",
    "    \n",
    "    return s"
   ]
  },
  {
   "cell_type": "code",
   "execution_count": null,
   "metadata": {
    "ExecuteTime": {
     "end_time": "2020-10-14T00:52:13.604573Z",
     "start_time": "2020-10-14T00:52:13.593827Z"
    }
   },
   "outputs": [],
   "source": [
    "def sigmoid_derivative(z):\n",
    "    return sigmoid(z)*(1-sigmoid(z))"
   ]
  },
  {
   "cell_type": "code",
   "execution_count": null,
   "metadata": {
    "ExecuteTime": {
     "end_time": "2020-10-14T00:52:13.666309Z",
     "start_time": "2020-10-14T00:52:13.605945Z"
    }
   },
   "outputs": [],
   "source": [
    "def propagate(X, Y, parameters):\n",
    "    \"\"\"\n",
    "    Argument:\n",
    "    X -- input data of size (n_x, m)\n",
    "    parameters -- python dictionary containing your parameters (output of initialization function)\n",
    "    \n",
    "    Returns:\n",
    "    A2 -- The sigmoid output of the second activation\n",
    "    cache -- a dictionary containing \"Z1\", \"A1\", \"Z2\" and \"A2\"\n",
    "    \"\"\"\n",
    "    # Retrieve each parameter from the dictionary \"parameters\"\n",
    "    W1 = parameters[\"W1\"]\n",
    "    b1 = parameters[\"b1\"]\n",
    "    W2 = parameters[\"W2\"]\n",
    "    b2 = parameters[\"b2\"]\n",
    "    \n",
    "    # Zi es la combinacion lineal entre x y w\n",
    "    # Ai es la aplicacion de una funcion de activacion a Zi\n",
    "    \n",
    "    Z1 = np.dot(W1, X) + b1\n",
    "    A1 = tanh(Z1)\n",
    "    Z2 = np.dot(W2, A1) + b2\n",
    "    A2 = Z2\n",
    "    \n",
    "    \n",
    "    assert(A2.shape == (1, X.shape[1]))\n",
    "    \n",
    "    cache = {\"Z1\": Z1,\n",
    "             \"A1\": A1,\n",
    "             \"Z2\": Z2,\n",
    "             \"A2\": A2}\n",
    "    \n",
    "    m = Y.shape[1] # number of samples\n",
    "    cost = (1/m)*np.sum((Y-A2)**2)\n",
    "    cost = np.squeeze(cost)     # makes sure cost is the dimension we expect. \n",
    "                                # E.g., turns [[17]] into 17 \n",
    "    assert(isinstance(cost, float))\n",
    "    \n",
    "    \n",
    "    m = X.shape[1]\n",
    "    \n",
    "    W1 = parameters[\"W1\"]\n",
    "    W2 = parameters[\"W2\"]\n",
    "        \n",
    "    A1 = cache[\"A1\"]\n",
    "    A2 = cache[\"A2\"]\n",
    "    \n",
    "    # Calculo de derivadas\n",
    "    \n",
    "    dZ2 = 2*(A2-Y)\n",
    "    dW2 = (1/m)*np.dot(dZ2, A1.T)\n",
    "    db2 = (1/m)*np.sum(dZ2, axis = 1, keepdims = True)\n",
    "    dZ1 = np.dot(W2.T, dZ2)*tanh_derivative(A1)\n",
    "    dW1 = (1/m)*np.dot(dZ1, X.T)\n",
    "    db1 = (1/m)*np.sum(dZ1, axis = 1, keepdims = True)\n",
    "    \n",
    "    grads = {\"dW1\": dW1,\n",
    "             \"db1\": db1,\n",
    "             \"dW2\": dW2,\n",
    "             \"db2\": db2}\n",
    "    \n",
    "    \n",
    "    return A2, cache, cost, grads"
   ]
  },
  {
   "cell_type": "code",
   "execution_count": null,
   "metadata": {
    "ExecuteTime": {
     "end_time": "2020-10-14T00:52:13.678272Z",
     "start_time": "2020-10-14T00:52:13.667942Z"
    }
   },
   "outputs": [],
   "source": [
    "def validation(X, Y, parameters):\n",
    "    \"\"\"\n",
    "    Argument:\n",
    "    X -- input data of size (n_x, m)\n",
    "    Y -- output data of size (n_y, m)\n",
    "    parameters -- python dictionary containing your parameters (output of initialization function)\n",
    "    \n",
    "    Returns:\n",
    "    A2 -- The sigmoid output of the second activation\n",
    "    cache -- a dictionary containing \"Z1\", \"A1\", \"Z2\" and \"A2\"\n",
    "    cost -- the value of cost\n",
    "    grads -- a dictionary contains derivatives to update parameters\n",
    "    \"\"\"\n",
    "    # Regresa cada parametro del diccionario \"parameters\"\n",
    "    \n",
    "    W1 = parameters[\"W1\"]\n",
    "    b1 = parameters[\"b1\"]\n",
    "    W2 = parameters[\"W2\"]\n",
    "    b2 = parameters[\"b2\"]\n",
    "    \n",
    "    # Pasos 1 y 2:\n",
    "    \n",
    "    # Zi es la combinacion lineal entre x y w\n",
    "    # Ai es la aplicacion de una funcion de activacion a Zi:\n",
    "    \n",
    "    Z1 = np.dot(W1, X) + b1\n",
    "    A1 = tanh(Z1)\n",
    "    Z2 = np.dot(W2, A1) + b2\n",
    "    A2 = Z2\n",
    "    \n",
    "    # se verifican las dimensiones de A2:\n",
    "    \n",
    "    assert(A2.shape == (1, X.shape[1]))\n",
    "\n",
    "    # Paso 3:\n",
    "    \n",
    "    # numero de muestras:\n",
    "    \n",
    "    m = Y.shape[1] \n",
    "    \n",
    "    # se calcula el costo:\n",
    "\n",
    "    cost = (1/m)*np.sum((Y-A2)**2)\n",
    "    \n",
    "    # Asegura que cost sea un escalar:\n",
    "    \n",
    "    cost = np.squeeze(cost)      \n",
    "                                \n",
    "    assert(isinstance(cost, float))  \n",
    "    \n",
    "    return cost"
   ]
  },
  {
   "cell_type": "markdown",
   "metadata": {},
   "source": [
    "<font size=4>\n",
    "\n",
    "## 3. Cálculo de la función de perdida (costo) durante la optimización de los parámetros que definen al modelo.\n",
    "\n",
    "Recordemos que la funcion de costo, $J$, nos permite saber qué tan bien se esta ajustando el modelo a la variable objetivo de las muestras. \n",
    "\n",
    "Para ello se buscan los parámetros que minimicen a esta función. \n",
    "\n",
    "En el presente caso, la función de costo está definida por la relación siguiente: \n",
    "\n",
    "$$J = \\dfrac{1}{m}\\sum_{i=0}^{m}(y^{(i)}-a^{(i)})^2$$"
   ]
  },
  {
   "cell_type": "code",
   "execution_count": null,
   "metadata": {
    "ExecuteTime": {
     "end_time": "2020-10-14T00:52:13.690995Z",
     "start_time": "2020-10-14T00:52:13.679547Z"
    }
   },
   "outputs": [],
   "source": [
    "def compute_cost(A2, Y, parameters):\n",
    "    \"\"\"\n",
    "    Computes the cross-entropy cost given in equation (13)\n",
    "    \n",
    "    Arguments:\n",
    "    A2 -- The sigmoid output of the second activation, of shape (1, number of examples)\n",
    "    Y -- \"true\" labels vector of shape (1, number of examples)\n",
    "    parameters -- python dictionary containing your parameters W1, b1, W2 and b2\n",
    "    \n",
    "    Returns:\n",
    "    cost -- cross-entropy cost given equation (13)\n",
    "    \"\"\"\n",
    "    \n",
    "    m = Y.shape[1] # number of samples\n",
    "    cost = (1/m)*np.sum((Y-A2)**2)\n",
    "    cost = np.squeeze(cost)   \n",
    "                                \n",
    "    assert(isinstance(cost, float))\n",
    "    \n",
    "    return cost"
   ]
  },
  {
   "cell_type": "markdown",
   "metadata": {},
   "source": [
    "<font size=4>\n",
    "\n",
    "Para encontrar a los valores optimos de los parametros, estos se acualizan en cada época empleando el algoritmo de gradiente descendente. El cual esta definido por la siguientes relaciones:\n",
    "\n",
    "$$ \\omega := \\omega - \\alpha \\dfrac{\\partial J(\\omega, b)}{\\partial \\omega}$$\n",
    "\n",
    "$$ b := b - \\alpha \\dfrac{\\partial J(\\omega, b)}{\\partial b}$$\n",
    "\n",
    "Es por ello necesario calcular las derivadas del costo respecto a cada uno de los parametros."
   ]
  },
  {
   "cell_type": "code",
   "execution_count": null,
   "metadata": {
    "ExecuteTime": {
     "end_time": "2020-10-14T00:52:13.707443Z",
     "start_time": "2020-10-14T00:52:13.692551Z"
    }
   },
   "outputs": [],
   "source": [
    "def calculation_of_derivatives(parameters, cache, X, Y):\n",
    "    \"\"\"\n",
    "    Implement the backward propagation using the instructions above.\n",
    "    \n",
    "    Arguments:\n",
    "    parameters -- python dictionary containing our parameters \n",
    "    cache -- a dictionary containing \"Z1\", \"A1\", \"Z2\" and \"A2\".\n",
    "    X -- input data of shape (2, number of examples)\n",
    "    Y -- \"true\" labels vector of shape (1, number of examples)\n",
    "    \n",
    "    Returns:\n",
    "    grads -- python dictionary containing your gradients with respect to different parameters\n",
    "    \"\"\"\n",
    "    m = X.shape[1]\n",
    "    \n",
    "    W1 = parameters[\"W1\"]\n",
    "    W2 = parameters[\"W2\"]\n",
    "        \n",
    "    A1 = cache[\"A1\"]\n",
    "    A2 = cache[\"A2\"]\n",
    "    \n",
    "    # Calculo de derivadas\n",
    "    \n",
    "    dZ2 = 2*(A2-Y)\n",
    "    dW2 = (1/m)*np.dot(dZ2, A1.T)\n",
    "    db2 = (1/m)*np.sum(dZ2, axis = 1, keepdims = True)\n",
    "    dZ1 = np.dot(W2.T, dZ2)*(1-np.power(A1, 2))\n",
    "    dW1 = (1/m)*np.dot(dZ1, X.T)\n",
    "    db1 = (1/m)*np.sum(dZ1, axis = 1, keepdims = True)\n",
    "    \n",
    "    grads = {\"dW1\": dW1,\n",
    "             \"db1\": db1,\n",
    "             \"dW2\": dW2,\n",
    "             \"db2\": db2}\n",
    "    \n",
    "    return grads"
   ]
  },
  {
   "cell_type": "markdown",
   "metadata": {},
   "source": [
    "<font size=5 color='blue'>\n",
    "4. Optimizacion de los pesos y los bias."
   ]
  },
  {
   "cell_type": "code",
   "execution_count": null,
   "metadata": {
    "ExecuteTime": {
     "end_time": "2020-10-14T00:52:13.722326Z",
     "start_time": "2020-10-14T00:52:13.709075Z"
    }
   },
   "outputs": [],
   "source": [
    "def optimize(parameters, grads, learning_rate = 0.1):\n",
    "    \"\"\"\n",
    "    Updates parameters using the gradient descent update rule given above\n",
    "    \n",
    "    Arguments:\n",
    "    parameters -- python dictionary containing your parameters \n",
    "    grads -- python dictionary containing your gradients \n",
    "    \n",
    "    Returns:\n",
    "    parameters -- python dictionary containing your updated parameters \n",
    "    \"\"\"\n",
    "    # Retrieve each parameter from the dictionary \"parameters\"\n",
    "    W1 = parameters[\"W1\"]\n",
    "    b1 = parameters[\"b1\"]\n",
    "    W2 = parameters[\"W2\"]\n",
    "    b2 = parameters[\"b2\"]\n",
    "    \n",
    "    # Retrieve each gradient from the dictionary \"grads\"\n",
    "    dW1 = grads[\"dW1\"]\n",
    "    db1 = grads[\"db1\"]\n",
    "    dW2 = grads[\"dW2\"]\n",
    "    db2 = grads[\"db2\"]\n",
    "    \n",
    "    # Update rule for each parameter\n",
    "    W1 = W1-learning_rate*dW1\n",
    "    b1 = b1-learning_rate*db1\n",
    "    W2 = W2-learning_rate*dW2\n",
    "    b2 = b2-learning_rate*db2\n",
    "    \n",
    "    parameters = {\"W1\": W1,\n",
    "                  \"b1\": b1,\n",
    "                  \"W2\": W2,\n",
    "                  \"b2\": b2}\n",
    "    \n",
    "    return parameters"
   ]
  },
  {
   "cell_type": "markdown",
   "metadata": {},
   "source": [
    "<font size=5 color='blue'>\n",
    "5. Las predicciones se realizan con los parámetros óptimos encontrados en el entrenamiento."
   ]
  },
  {
   "cell_type": "code",
   "execution_count": null,
   "metadata": {
    "ExecuteTime": {
     "end_time": "2020-10-14T00:52:13.740623Z",
     "start_time": "2020-10-14T00:52:13.723982Z"
    }
   },
   "outputs": [],
   "source": [
    "def predict(parameters, X, Y):\n",
    "    \"\"\"\n",
    "    Using the learned parameters, predicts a class for each example in X\n",
    "    \n",
    "    Arguments:\n",
    "    parameters -- python dictionary containing your parameters \n",
    "    X -- input data of size (n_x, m)\n",
    "    \n",
    "    Returns\n",
    "    predictions -- vector of predictions of our model (red: 0 / blue: 1)\n",
    "    \"\"\"\n",
    "    predictions =  []\n",
    "    A2, cache, cost, grads = propagate(X, Y, parameters)\n",
    "    predictions = identity(A2) \n",
    "    \n",
    "    return predictions"
   ]
  },
  {
   "cell_type": "markdown",
   "metadata": {},
   "source": [
    "<font size=5 color='blue'>\n",
    "    \n",
    "Las funciones anteriores se integran para generar, entrenar y validar la red neuronal."
   ]
  },
  {
   "cell_type": "code",
   "execution_count": null,
   "metadata": {
    "ExecuteTime": {
     "end_time": "2020-10-14T00:52:13.756359Z",
     "start_time": "2020-10-14T00:52:13.741963Z"
    }
   },
   "outputs": [],
   "source": [
    "def nn_model(X, Y, X_dev, Y_dev, n_h, epochs, alpha, print_cost=False):\n",
    "    \"\"\"\n",
    "    Arguments:\n",
    "    X -- dataset of shape (2, number of examples)\n",
    "    Y -- labels of shape (1, number of examples)\n",
    "    n_h -- size of the hidden layer\n",
    "    num_iterations -- Number of iterations in gradient descent loop\n",
    "    print_cost -- if True, print the cost every 1000 iterations\n",
    "    \n",
    "    Returns:\n",
    "    parameters -- parameters learnt by the model. They can then be used to predict.\n",
    "    \"\"\"\n",
    "    \n",
    "    np.random.seed(3)\n",
    "    \n",
    "    n_x, n_h, n_y = layer_sizes(train_x, train_y, n_h = n_h)\n",
    "        \n",
    "    # Initialize parameters, then retrieve W1, b1, W2, b2. Inputs: \"n_x, n_h, n_y\". Outputs = \"W1, b1, W2, b2, parameters\".\n",
    "    parameters = initialize_parameters(n_x, n_h, n_y)\n",
    "    W1 = parameters[\"W1\"]\n",
    "    b1 = parameters[\"b1\"] \n",
    "    W2 = parameters[\"W2\"]\n",
    "    b2 = parameters[\"b2\"]\n",
    "    \n",
    "    # Loop (gradient descent)\n",
    "    \n",
    "    costs=[]\n",
    "    costs_dev = []\n",
    "    params = []\n",
    "    \n",
    "\n",
    "    for i in range(0, epochs):\n",
    "         \n",
    "        A2, cache, cost, grads = propagate(X, Y, parameters)\n",
    "        \n",
    "        cost_dev = validation(X_dev, Y_dev, parameters)\n",
    " \n",
    "        parameters = optimize(parameters, grads, alpha)\n",
    "        \n",
    "        params.append(parameters)\n",
    "        \n",
    "        costs.append(cost)\n",
    "        \n",
    "        costs_dev.append(cost_dev)\n",
    "                \n",
    "        # Print the cost every 1000 iterations\n",
    "        if print_cost and i % 100 == 0:\n",
    "            print (\"Cost and Cost_val in epoch %i: %f %f\" %(i, cost, cost_dev))\n",
    "            \n",
    "    return parameters, costs, params, costs_dev"
   ]
  },
  {
   "cell_type": "markdown",
   "metadata": {
    "ExecuteTime": {
     "end_time": "2020-10-13T17:25:36.366411Z",
     "start_time": "2020-10-13T17:25:36.359140Z"
    }
   },
   "source": [
    "<font size=5 color='blue'>\n",
    "\n",
    "Entrenamiento:"
   ]
  },
  {
   "cell_type": "code",
   "execution_count": null,
   "metadata": {
    "ExecuteTime": {
     "end_time": "2020-10-14T00:52:14.511026Z",
     "start_time": "2020-10-14T00:52:13.757780Z"
    }
   },
   "outputs": [],
   "source": [
    "epochs = 2000\n",
    "learning_rate = 0.008\n",
    "n_h = 4\n",
    "\n",
    "opt_parameters, costs, params, costs_dev = nn_model(train_x, train_y, val_x, val_y, n_h = n_h, epochs = epochs, alpha=learning_rate, print_cost=True)\n"
   ]
  },
  {
   "cell_type": "code",
   "execution_count": null,
   "metadata": {
    "ExecuteTime": {
     "end_time": "2020-10-14T00:52:14.602952Z",
     "start_time": "2020-10-14T00:52:14.515607Z"
    }
   },
   "outputs": [],
   "source": [
    "costs = np.squeeze(costs)\n",
    "plt.plot(costs, color='red')\n",
    "plt.plot(costs_dev, color='green')\n",
    "\n",
    "plt.ylabel('Cost')\n",
    "plt.xlabel('epochs')\n",
    "plt.show()"
   ]
  },
  {
   "cell_type": "markdown",
   "metadata": {},
   "source": [
    "<font size=4>\n",
    "    \n",
    " ## Precision:\n",
    "\n",
    "Para calcular la precision del modelo se usa MSE:\n",
    "\n",
    "$$100-MSE*100$$\n",
    "\n",
    "es decir\n",
    "\n",
    "$$100-(\\dfrac{1}{m}\\Sigma_{i}(y_{i}-a_{i})^2)*100$$"
   ]
  },
  {
   "cell_type": "code",
   "execution_count": null,
   "metadata": {
    "ExecuteTime": {
     "end_time": "2020-10-14T00:52:14.608504Z",
     "start_time": "2020-10-14T00:52:14.604399Z"
    }
   },
   "outputs": [],
   "source": [
    "predictions_train = predict(opt_parameters, train_x, train_y)\n",
    "\n",
    "print(\"train accuracy: {} %\".format(100 - np.mean(np.power(predictions_train-train_y, 2)) * 100))\n"
   ]
  },
  {
   "cell_type": "code",
   "execution_count": null,
   "metadata": {
    "ExecuteTime": {
     "end_time": "2020-10-14T00:52:14.621516Z",
     "start_time": "2020-10-14T00:52:14.609758Z"
    }
   },
   "outputs": [],
   "source": [
    "predictions_val = predict(opt_parameters, val_x, val_y)\n",
    "\n",
    "print(\"val accuracy: {} %\".format(100 - np.mean(np.power(predictions_val-val_y, 2)) * 100))\n"
   ]
  },
  {
   "cell_type": "code",
   "execution_count": null,
   "metadata": {},
   "outputs": [],
   "source": []
  }
 ],
 "metadata": {
  "kernelspec": {
   "display_name": "Python 3",
   "language": "python",
   "name": "python3"
  },
  "language_info": {
   "codemirror_mode": {
    "name": "ipython",
    "version": 3
   },
   "file_extension": ".py",
   "mimetype": "text/x-python",
   "name": "python",
   "nbconvert_exporter": "python",
   "pygments_lexer": "ipython3",
   "version": "3.7.6"
  }
 },
 "nbformat": 4,
 "nbformat_minor": 4
}
